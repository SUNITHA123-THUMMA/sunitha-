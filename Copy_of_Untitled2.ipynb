{
  "nbformat": 4,
  "nbformat_minor": 0,
  "metadata": {
    "colab": {
      "name": "Copy of Untitled2.ipynb",
      "provenance": [],
      "collapsed_sections": [],
      "authorship_tag": "ABX9TyNV0ed0lyUm2kHmWAUAbwEO",
      "include_colab_link": true
    },
    "kernelspec": {
      "name": "python3",
      "display_name": "Python 3"
    },
    "language_info": {
      "name": "python"
    }
  },
  "cells": [
    {
      "cell_type": "markdown",
      "metadata": {
        "id": "view-in-github",
        "colab_type": "text"
      },
      "source": [
        "<a href=\"https://colab.research.google.com/github/SUNITHA123-THUMMA/sunitha-/blob/main/Copy_of_Untitled2.ipynb\" target=\"_parent\"><img src=\"https://colab.research.google.com/assets/colab-badge.svg\" alt=\"Open In Colab\"/></a>"
      ]
    },
    {
      "cell_type": "markdown",
      "source": [
        "                                                                     **WEEK-04**\n",
        " N180091\n",
        " \n",
        " T.SUNITHA\n",
        " \n",
        " DATE:23-06-2022  \n",
        "\n",
        "\n",
        "                                                                      "
      ],
      "metadata": {
        "id": "cH1XCIRlwUbp"
      }
    },
    {
      "cell_type": "markdown",
      "source": [
        "1.Write a Pandas program to create and display a one-dimensional array-like\n",
        "object containing an array of data using Pandas module."
      ],
      "metadata": {
        "id": "DXiDhITpxGbq"
      }
    },
    {
      "cell_type": "code",
      "source": [
        "import pandas as pd\n",
        "ds = pd.Series([2, 4, 6, 8, 10])\n",
        "print(ds)"
      ],
      "metadata": {
        "colab": {
          "base_uri": "https://localhost:8080/"
        },
        "id": "OnSfwYPzxTEV",
        "outputId": "fd259638-0f2e-4697-c9bb-d2c2cc89be2c"
      },
      "execution_count": null,
      "outputs": [
        {
          "output_type": "stream",
          "name": "stdout",
          "text": [
            "0     2\n",
            "1     4\n",
            "2     6\n",
            "3     8\n",
            "4    10\n",
            "dtype: int64\n"
          ]
        }
      ]
    },
    {
      "cell_type": "markdown",
      "source": [
        "2. Write a Pandas program to add, subtract, multiple and divide two Pandas\n",
        "Series"
      ],
      "metadata": {
        "id": "Mu1oWZY7xamZ"
      }
    },
    {
      "cell_type": "code",
      "source": [
        "ds1 = pd.Series([2, 4, 6, 8, 10])\n",
        "ds2 = pd.Series([1, 3, 5, 7, 9])\n",
        "ds = ds1 + ds2\n",
        "print(\"Add two Series:\")\n",
        "print(ds)\n",
        "print(\"Subtract two Series:\")\n",
        "ds = ds1 - ds2\n",
        "print(ds)\n",
        "print(\"Multiply two Series:\")\n",
        "ds = ds1 * ds2\n",
        "print(ds)\n",
        "print(\"Divide Series1 by Series2:\")\n",
        "ds = ds1 / ds2\n",
        "print(ds)"
      ],
      "metadata": {
        "colab": {
          "base_uri": "https://localhost:8080/"
        },
        "id": "Y_DBhp0Exeoe",
        "outputId": "6510f7be-71a7-4fcc-d2ab-9bb72061e555"
      },
      "execution_count": null,
      "outputs": [
        {
          "output_type": "stream",
          "name": "stdout",
          "text": [
            "Add two Series:\n",
            "0     3\n",
            "1     7\n",
            "2    11\n",
            "3    15\n",
            "4    19\n",
            "dtype: int64\n",
            "Subtract two Series:\n",
            "0    1\n",
            "1    1\n",
            "2    1\n",
            "3    1\n",
            "4    1\n",
            "dtype: int64\n",
            "Multiply two Series:\n",
            "0     2\n",
            "1    12\n",
            "2    30\n",
            "3    56\n",
            "4    90\n",
            "dtype: int64\n",
            "Divide Series1 by Series2:\n",
            "0    2.000000\n",
            "1    1.333333\n",
            "2    1.200000\n",
            "3    1.142857\n",
            "4    1.111111\n",
            "dtype: float64\n"
          ]
        }
      ]
    },
    {
      "cell_type": "markdown",
      "source": [
        "3. Write a Pandas program to convert a dictionary to a Pandas series.\n",
        "Sample Series:\n",
        "Original dictionary:\n",
        "{&#39;a&#39;: 100, &#39;b&#39;: 200, &#39;c&#39;: 300, &#39;d&#39;: 400, &#39;e&#39;: 800}\n",
        "Converted series:\n",
        "a 100\n",
        "b 200\n",
        "c 300\n",
        "d 400\n",
        "e 800\n",
        "dtype: int64"
      ],
      "metadata": {
        "id": "jncilLppyUGu"
      }
    },
    {
      "cell_type": "code",
      "source": [
        "d1 = {'a': 100, 'b': 200, 'c':300, 'd':400, 'e':800}\n",
        "print(\"Original dictionary:\")\n",
        "print(d1)\n",
        "new_series = pd.Series(d1)\n",
        "print(\"Converted series:\")\n",
        "print(new_series)"
      ],
      "metadata": {
        "colab": {
          "base_uri": "https://localhost:8080/"
        },
        "id": "d-kTPi_Yyb_0",
        "outputId": "38b18213-d63b-42f3-a556-da1a4d1d2482"
      },
      "execution_count": null,
      "outputs": [
        {
          "output_type": "stream",
          "name": "stdout",
          "text": [
            "Original dictionary:\n",
            "{'a': 100, 'b': 200, 'c': 300, 'd': 400, 'e': 800}\n",
            "Converted series:\n",
            "a    100\n",
            "b    200\n",
            "c    300\n",
            "d    400\n",
            "e    800\n",
            "dtype: int64\n"
          ]
        }
      ]
    },
    {
      "cell_type": "markdown",
      "source": [
        "4. Write a Pandas program to change the data type of given a column or a\n",
        "Series. \n",
        "Sample Series:\n",
        "Original Data Series:\n",
        "0 100\n",
        "1 200\n",
        "2 python\n",
        "3 300.12\n",
        "4 400\n",
        "dtype: object\n",
        "Change the said data type to numeric:\n",
        "0 100.00\n",
        "1 200.00\n",
        "2 NaN\n",
        "3 300.12\n",
        "4 400.00\n",
        "dtype: float64\n",
        "\n",
        "\n",
        "\n",
        "\n"
      ],
      "metadata": {
        "id": "URhTKw6Zy4hl"
      }
    },
    {
      "cell_type": "code",
      "source": [
        "s1 = pd.Series(['100', '200', 'python', '300.12', '400'])\n",
        "print(\"Original Data Series:\")\n",
        "print(s1)\n",
        "print(\"Change the said data type to numeric:\")\n",
        "s2 = pd.to_numeric(s1, errors='coerce')\n",
        "print(s2)\n"
      ],
      "metadata": {
        "colab": {
          "base_uri": "https://localhost:8080/"
        },
        "id": "7ac5Ty4_zSQC",
        "outputId": "8732065a-a788-4075-b5d2-6c9ae57a3044"
      },
      "execution_count": null,
      "outputs": [
        {
          "output_type": "stream",
          "name": "stdout",
          "text": [
            "Original Data Series:\n",
            "0       100\n",
            "1       200\n",
            "2    python\n",
            "3    300.12\n",
            "4       400\n",
            "dtype: object\n",
            "Change the said data type to numeric:\n",
            "0    100.00\n",
            "1    200.00\n",
            "2       NaN\n",
            "3    300.12\n",
            "4    400.00\n",
            "dtype: float64\n"
          ]
        }
      ]
    },
    {
      "cell_type": "markdown",
      "source": [
        "5. Write a Pandas program to sort a given Series. \n",
        "Sample Output:\n",
        "Original Data Series: 0 100\n",
        "1 200\n",
        "2 python\n",
        "3 300.12\n",
        "\n",
        "4 400\n",
        "dtype: object\n",
        "0 100\n",
        "1 200\n",
        "3 300.12\n",
        "4 400\n",
        "2 python\n",
        "dtype: object"
      ],
      "metadata": {
        "id": "v-wSr_ke0-ai"
      }
    },
    {
      "cell_type": "code",
      "source": [
        "s = pd.Series(['100', '200', 'python', '300.12', '400'])\n",
        "print(\"Original Data Series:\")\n",
        "print(s)\n",
        "new_s = pd.Series(s).sort_values()\n",
        "print(new_s)"
      ],
      "metadata": {
        "colab": {
          "base_uri": "https://localhost:8080/"
        },
        "id": "4gWHy9Ww1GDF",
        "outputId": "bff3c059-02cd-4769-dbd9-182b6ce955a7"
      },
      "execution_count": null,
      "outputs": [
        {
          "output_type": "stream",
          "name": "stdout",
          "text": [
            "Original Data Series:\n",
            "0       100\n",
            "1       200\n",
            "2    python\n",
            "3    300.12\n",
            "4       400\n",
            "dtype: object\n",
            "0       100\n",
            "1       200\n",
            "3    300.12\n",
            "4       400\n",
            "2    python\n",
            "dtype: object\n"
          ]
        }
      ]
    },
    {
      "cell_type": "markdown",
      "source": [
        "6. Write a Pandas program to change the order of index of a given series. \n",
        "Sample Output:\n",
        "Original Data Series:\n",
        "A 1\n",
        "B 2\n",
        "C 3\n",
        "D 4\n",
        "E 5\n",
        "dtype: int64\n",
        "Data Series after changing the order of index:\n",
        "B 2\n",
        "A 1\n",
        "C 3\n",
        "D 4\n",
        "E 5\n",
        "dtype: int64"
      ],
      "metadata": {
        "id": "L4fjRhxp1bu3"
      }
    },
    {
      "cell_type": "code",
      "source": [
        "s = pd.Series(data = [1,2,3,4,5], index = ['A', 'B', 'C','D','E'])\n",
        "print(\"Original Data Series:\")\n",
        "print(s)\n",
        "s = s.reindex(index = ['B','A','C','D','E'])\n",
        "print(\"Data Series after changing the order of index:\")\n",
        "print(s)"
      ],
      "metadata": {
        "colab": {
          "base_uri": "https://localhost:8080/"
        },
        "id": "V_3bgsdz1k0s",
        "outputId": "db884a9d-04b7-463f-be82-840c5a5c1121"
      },
      "execution_count": null,
      "outputs": [
        {
          "output_type": "stream",
          "name": "stdout",
          "text": [
            "Original Data Series:\n",
            "A    1\n",
            "B    2\n",
            "C    3\n",
            "D    4\n",
            "E    5\n",
            "dtype: int64\n",
            "Data Series after changing the order of index:\n",
            "B    2\n",
            "A    1\n",
            "C    3\n",
            "D    4\n",
            "E    5\n",
            "dtype: int64\n"
          ]
        }
      ]
    },
    {
      "cell_type": "markdown",
      "source": [
        "7. Write a Pandas program to get the positions of items of a given series in\n",
        "another given series. \n",
        "Sample Output:\n",
        "Original Series:\n",
        "0 1\n",
        "1 2\n",
        "2 3\n",
        "3 4\n",
        "4 5\n",
        "5 6\n",
        "6 7\n",
        "7 8\n",
        "8 9\n",
        "9 10\n",
        "dtype: int64\n",
        "0 1\n",
        "1 3\n",
        "2 5\n",
        "3 7\n",
        "4 10\n",
        "dtype: int64\n",
        "Positions of items of series2 in series1:\n",
        "[0, 2, 4, 6, 9]"
      ],
      "metadata": {
        "id": "rhodgjUm2FBN"
      }
    },
    {
      "cell_type": "code",
      "source": [
        "series1 = pd.Series([1, 2, 3, 4, 5, 6, 7, 8, 9, 10])\n",
        "series2 = pd.Series([1, 3, 5, 7, 10])\n",
        "print(\"Original Series:\")\n",
        "print(series1)\n",
        "print(series2)\n",
        "result = [pd.Index(series1).get_loc(i) for i in series2]\n",
        "print(\"Positions of items of series2 in series1:\")\n",
        "print(result)"
      ],
      "metadata": {
        "colab": {
          "base_uri": "https://localhost:8080/"
        },
        "id": "upWC8cgP2fWQ",
        "outputId": "10ad0953-0815-4dc7-b328-5b639e5caedc"
      },
      "execution_count": null,
      "outputs": [
        {
          "output_type": "stream",
          "name": "stdout",
          "text": [
            "Original Series:\n",
            "0     1\n",
            "1     2\n",
            "2     3\n",
            "3     4\n",
            "4     5\n",
            "5     6\n",
            "6     7\n",
            "7     8\n",
            "8     9\n",
            "9    10\n",
            "dtype: int64\n",
            "0     1\n",
            "1     3\n",
            "2     5\n",
            "3     7\n",
            "4    10\n",
            "dtype: int64\n",
            "Positions of items of series2 in series1:\n",
            "[0, 2, 4, 6, 9]\n"
          ]
        }
      ]
    },
    {
      "cell_type": "markdown",
      "source": [
        "8. Write a Pandas program to check the equality of two given series.\n",
        "Sample Output:\n",
        "Original Series:\n",
        "0 1\n",
        "1 8\n",
        "2 7\n",
        "3 5\n",
        "4 6\n",
        "5 5\n",
        "6 3\n",
        "7 4\n",
        "8 7\n",
        "9 1\n",
        "dtype: int64\n",
        "0 1\n",
        "1 8\n",
        "2 7\n",
        "3 5\n",
        "4 6\n",
        "5 5\n",
        "6 3\n",
        "7 4\n",
        "8 7\n",
        "9 1\n",
        "dtype: int64\n",
        "Check 2 series are equal or not?\n",
        "0 True\n",
        "1 True\n",
        "2 True\n",
        "3 True\n",
        "4 True\n",
        "5 True\n",
        "6 True\n",
        "7 True\n",
        "8 True\n",
        "9 True\n",
        "dtype: bool"
      ],
      "metadata": {
        "id": "yEezM2jF3dic"
      }
    },
    {
      "cell_type": "code",
      "source": [
        "series1=pd.Series([1,8,7,5,6,5,3,4,7,1])\n",
        "series2=pd.Series([1,8,7,5,6,5,3,4,7,1])\n",
        "print(\"original series:\")\n",
        "print(series1)\n",
        "print(series2)\n",
        "print(\"Check 2 series are equal or not?\")\n",
        "print(series1 == series2)"
      ],
      "metadata": {
        "colab": {
          "base_uri": "https://localhost:8080/"
        },
        "id": "XES2bidt3ruj",
        "outputId": "f07b1991-500b-4f08-8261-b5fe378dd1d3"
      },
      "execution_count": null,
      "outputs": [
        {
          "output_type": "stream",
          "name": "stdout",
          "text": [
            "original series:\n",
            "0    1\n",
            "1    8\n",
            "2    7\n",
            "3    5\n",
            "4    6\n",
            "5    5\n",
            "6    3\n",
            "7    4\n",
            "8    7\n",
            "9    1\n",
            "dtype: int64\n",
            "0    1\n",
            "1    8\n",
            "2    7\n",
            "3    5\n",
            "4    6\n",
            "5    5\n",
            "6    3\n",
            "7    4\n",
            "8    7\n",
            "9    1\n",
            "dtype: int64\n",
            "Check 2 series are equal or not?\n",
            "0    True\n",
            "1    True\n",
            "2    True\n",
            "3    True\n",
            "4    True\n",
            "5    True\n",
            "6    True\n",
            "7    True\n",
            "8    True\n",
            "9    True\n",
            "dtype: bool\n"
          ]
        }
      ]
    },
    {
      "cell_type": "markdown",
      "source": [
        "9. Make a Pandas DataFrame with two-dimensional list."
      ],
      "metadata": {
        "id": "m_ZM3SDC5ELf"
      }
    },
    {
      "cell_type": "code",
      "source": [
        "lst = [['suni', 't', 25], ['siri', 'm', 30], \n",
        "       ['sam', 'v', 26], ['jam', 'a', 22]] \n",
        "      \n",
        "df = pd.DataFrame(lst, columns =['FName', 'LName', 'Age'],dtype = float) \n",
        "print(df)"
      ],
      "metadata": {
        "colab": {
          "base_uri": "https://localhost:8080/"
        },
        "id": "r89Lww-v5Iz2",
        "outputId": "64157ff9-953c-4cd3-cfb9-d74f2a3f9a40"
      },
      "execution_count": null,
      "outputs": [
        {
          "output_type": "stream",
          "name": "stdout",
          "text": [
            "  FName LName   Age\n",
            "0  suni     t  25.0\n",
            "1  siri     m  30.0\n",
            "2   sam     v  26.0\n",
            "3   jam     a  22.0\n"
          ]
        },
        {
          "output_type": "stream",
          "name": "stderr",
          "text": [
            "/usr/local/lib/python3.7/dist-packages/IPython/core/interactiveshell.py:2882: FutureWarning: Could not cast to float64, falling back to object. This behavior is deprecated. In a future version, when a dtype is passed to 'DataFrame', either all columns will be cast to that dtype, or a TypeError will be raised\n",
            "  exec(code_obj, self.user_global_ns, self.user_ns)\n"
          ]
        }
      ]
    },
    {
      "cell_type": "markdown",
      "source": [
        "10. Creating DataFrame from dict of n array/lists"
      ],
      "metadata": {
        "id": "h982EMb16s46"
      }
    },
    {
      "cell_type": "code",
      "source": [
        "data = {'Category':['Array', 'Stack', 'Queue'],\n",
        "        'Student_1':[20, 21, 19], 'Student_2':[15, 20, 14]}\n",
        "df = pd.DataFrame(data)\n",
        "print(df)"
      ],
      "metadata": {
        "colab": {
          "base_uri": "https://localhost:8080/"
        },
        "id": "Eonw6PoQ60_Y",
        "outputId": "79cc1232-dbfc-4462-a825-d076569430f2"
      },
      "execution_count": null,
      "outputs": [
        {
          "output_type": "stream",
          "name": "stdout",
          "text": [
            "  Category  Student_1  Student_2\n",
            "0    Array         20         15\n",
            "1    Stack         21         20\n",
            "2    Queue         19         14\n"
          ]
        }
      ]
    },
    {
      "cell_type": "markdown",
      "source": [
        "11. Creating Pandas dataframe using list of lists"
      ],
      "metadata": {
        "id": "YJrhET6q72vQ"
      }
    },
    {
      "cell_type": "code",
      "source": [
        "data = [['suni', 10], ['siri', 15], ['riya', 20]]\n",
        "df = pd.DataFrame(data, columns = ['Name', 'Age'])\n",
        "print(df )"
      ],
      "metadata": {
        "colab": {
          "base_uri": "https://localhost:8080/"
        },
        "id": "Uv51q-Vg74Iq",
        "outputId": "24f341c6-177d-4e6a-e4f8-d9e374630171"
      },
      "execution_count": null,
      "outputs": [
        {
          "output_type": "stream",
          "name": "stdout",
          "text": [
            "   Name  Age\n",
            "0  suni   10\n",
            "1  siri   15\n",
            "2  riya   20\n"
          ]
        }
      ]
    },
    {
      "cell_type": "markdown",
      "source": [
        "12. Creating a Pandas dataframe using list of tuples"
      ],
      "metadata": {
        "id": "svq0CRPa8Ukz"
      }
    },
    {
      "cell_type": "code",
      "source": [
        "data = [('suni', 18, 9),\n",
        "        ('siri', 15, 6),\n",
        "        ('sneha', 17, 8),\n",
        "        ('suma', 18, 7),\n",
        "        ('Sandeep', 17, 5) ]\n",
        "\n",
        "df = pd.DataFrame(data, columns =['Name', 'Age', 'Score'])\n",
        "  \n",
        "print(df)"
      ],
      "metadata": {
        "colab": {
          "base_uri": "https://localhost:8080/"
        },
        "id": "cEkBkVmP8Yt3",
        "outputId": "8dd64d00-6d10-4b75-d6fb-05ca45f11331"
      },
      "execution_count": null,
      "outputs": [
        {
          "output_type": "stream",
          "name": "stdout",
          "text": [
            "      Name  Age  Score\n",
            "0     suni   18      9\n",
            "1     siri   15      6\n",
            "2    sneha   17      8\n",
            "3     suma   18      7\n",
            "4  Sandeep   17      5\n"
          ]
        }
      ]
    },
    {
      "cell_type": "markdown",
      "source": [
        "13. Create a Pandas DataFrame from List of Dicts"
      ],
      "metadata": {
        "id": "JYXHxsZ0889l"
      }
    },
    {
      "cell_type": "code",
      "source": [
        "data = [{'dsp': 'dataframe', 'wt': 'using', 'coa': 'list'},\n",
        "        {'ior':10, 'For': 20, 'cd': 30}] \n",
        " \n",
        "df = pd.DataFrame(data) \n",
        "df "
      ],
      "metadata": {
        "colab": {
          "base_uri": "https://localhost:8080/",
          "height": 112
        },
        "id": "AftXZRcN9BI9",
        "outputId": "11b5ca2b-3af0-49b5-cc9e-758eac460eff"
      },
      "execution_count": null,
      "outputs": [
        {
          "output_type": "execute_result",
          "data": {
            "text/plain": [
              "         dsp     wt   coa   ior   For    cd\n",
              "0  dataframe  using  list   NaN   NaN   NaN\n",
              "1        NaN    NaN   NaN  10.0  20.0  30.0"
            ],
            "text/html": [
              "\n",
              "  <div id=\"df-70d75601-9e0b-4611-864f-5d1460293c7a\">\n",
              "    <div class=\"colab-df-container\">\n",
              "      <div>\n",
              "<style scoped>\n",
              "    .dataframe tbody tr th:only-of-type {\n",
              "        vertical-align: middle;\n",
              "    }\n",
              "\n",
              "    .dataframe tbody tr th {\n",
              "        vertical-align: top;\n",
              "    }\n",
              "\n",
              "    .dataframe thead th {\n",
              "        text-align: right;\n",
              "    }\n",
              "</style>\n",
              "<table border=\"1\" class=\"dataframe\">\n",
              "  <thead>\n",
              "    <tr style=\"text-align: right;\">\n",
              "      <th></th>\n",
              "      <th>dsp</th>\n",
              "      <th>wt</th>\n",
              "      <th>coa</th>\n",
              "      <th>ior</th>\n",
              "      <th>For</th>\n",
              "      <th>cd</th>\n",
              "    </tr>\n",
              "  </thead>\n",
              "  <tbody>\n",
              "    <tr>\n",
              "      <th>0</th>\n",
              "      <td>dataframe</td>\n",
              "      <td>using</td>\n",
              "      <td>list</td>\n",
              "      <td>NaN</td>\n",
              "      <td>NaN</td>\n",
              "      <td>NaN</td>\n",
              "    </tr>\n",
              "    <tr>\n",
              "      <th>1</th>\n",
              "      <td>NaN</td>\n",
              "      <td>NaN</td>\n",
              "      <td>NaN</td>\n",
              "      <td>10.0</td>\n",
              "      <td>20.0</td>\n",
              "      <td>30.0</td>\n",
              "    </tr>\n",
              "  </tbody>\n",
              "</table>\n",
              "</div>\n",
              "      <button class=\"colab-df-convert\" onclick=\"convertToInteractive('df-70d75601-9e0b-4611-864f-5d1460293c7a')\"\n",
              "              title=\"Convert this dataframe to an interactive table.\"\n",
              "              style=\"display:none;\">\n",
              "        \n",
              "  <svg xmlns=\"http://www.w3.org/2000/svg\" height=\"24px\"viewBox=\"0 0 24 24\"\n",
              "       width=\"24px\">\n",
              "    <path d=\"M0 0h24v24H0V0z\" fill=\"none\"/>\n",
              "    <path d=\"M18.56 5.44l.94 2.06.94-2.06 2.06-.94-2.06-.94-.94-2.06-.94 2.06-2.06.94zm-11 1L8.5 8.5l.94-2.06 2.06-.94-2.06-.94L8.5 2.5l-.94 2.06-2.06.94zm10 10l.94 2.06.94-2.06 2.06-.94-2.06-.94-.94-2.06-.94 2.06-2.06.94z\"/><path d=\"M17.41 7.96l-1.37-1.37c-.4-.4-.92-.59-1.43-.59-.52 0-1.04.2-1.43.59L10.3 9.45l-7.72 7.72c-.78.78-.78 2.05 0 2.83L4 21.41c.39.39.9.59 1.41.59.51 0 1.02-.2 1.41-.59l7.78-7.78 2.81-2.81c.8-.78.8-2.07 0-2.86zM5.41 20L4 18.59l7.72-7.72 1.47 1.35L5.41 20z\"/>\n",
              "  </svg>\n",
              "      </button>\n",
              "      \n",
              "  <style>\n",
              "    .colab-df-container {\n",
              "      display:flex;\n",
              "      flex-wrap:wrap;\n",
              "      gap: 12px;\n",
              "    }\n",
              "\n",
              "    .colab-df-convert {\n",
              "      background-color: #E8F0FE;\n",
              "      border: none;\n",
              "      border-radius: 50%;\n",
              "      cursor: pointer;\n",
              "      display: none;\n",
              "      fill: #1967D2;\n",
              "      height: 32px;\n",
              "      padding: 0 0 0 0;\n",
              "      width: 32px;\n",
              "    }\n",
              "\n",
              "    .colab-df-convert:hover {\n",
              "      background-color: #E2EBFA;\n",
              "      box-shadow: 0px 1px 2px rgba(60, 64, 67, 0.3), 0px 1px 3px 1px rgba(60, 64, 67, 0.15);\n",
              "      fill: #174EA6;\n",
              "    }\n",
              "\n",
              "    [theme=dark] .colab-df-convert {\n",
              "      background-color: #3B4455;\n",
              "      fill: #D2E3FC;\n",
              "    }\n",
              "\n",
              "    [theme=dark] .colab-df-convert:hover {\n",
              "      background-color: #434B5C;\n",
              "      box-shadow: 0px 1px 3px 1px rgba(0, 0, 0, 0.15);\n",
              "      filter: drop-shadow(0px 1px 2px rgba(0, 0, 0, 0.3));\n",
              "      fill: #FFFFFF;\n",
              "    }\n",
              "  </style>\n",
              "\n",
              "      <script>\n",
              "        const buttonEl =\n",
              "          document.querySelector('#df-70d75601-9e0b-4611-864f-5d1460293c7a button.colab-df-convert');\n",
              "        buttonEl.style.display =\n",
              "          google.colab.kernel.accessAllowed ? 'block' : 'none';\n",
              "\n",
              "        async function convertToInteractive(key) {\n",
              "          const element = document.querySelector('#df-70d75601-9e0b-4611-864f-5d1460293c7a');\n",
              "          const dataTable =\n",
              "            await google.colab.kernel.invokeFunction('convertToInteractive',\n",
              "                                                     [key], {});\n",
              "          if (!dataTable) return;\n",
              "\n",
              "          const docLinkHtml = 'Like what you see? Visit the ' +\n",
              "            '<a target=\"_blank\" href=https://colab.research.google.com/notebooks/data_table.ipynb>data table notebook</a>'\n",
              "            + ' to learn more about interactive tables.';\n",
              "          element.innerHTML = '';\n",
              "          dataTable['output_type'] = 'display_data';\n",
              "          await google.colab.output.renderOutput(dataTable, element);\n",
              "          const docLink = document.createElement('div');\n",
              "          docLink.innerHTML = docLinkHtml;\n",
              "          element.appendChild(docLink);\n",
              "        }\n",
              "      </script>\n",
              "    </div>\n",
              "  </div>\n",
              "  "
            ]
          },
          "metadata": {},
          "execution_count": 28
        }
      ]
    },
    {
      "cell_type": "markdown",
      "source": [
        "14. Convert list of nested dictionary into Pandas dataframe"
      ],
      "metadata": {
        "id": "SwlJh2ES9kow"
      }
    },
    {
      "cell_type": "code",
      "source": [
        "list = [\n",
        "        {\n",
        "        \"Student\": [{\"Exam\": 90, \"Grade\": \"a\"},\n",
        "                    {\"Exam\": 99, \"Grade\": \"b\"},\n",
        "                    {\"Exam\": 97, \"Grade\": \"c\"},\n",
        "                   ],\n",
        "        \"Name\": \"Paras Jain\"\n",
        "        },\n",
        "        {\n",
        "        \"Student\": [{\"Exam\": 89, \"Grade\": \"a\"},\n",
        "                    {\"Exam\": 80, \"Grade\": \"b\"}\n",
        "                   ],\n",
        "        \"Name\": \"Chunky Pandey\"\n",
        "        }\n",
        "       ]\n",
        "  \n",
        "print(list)\n",
        "rows = []\n",
        "  \n",
        "for data in list:\n",
        "    data_row = data['Student']\n",
        "    time = data['Name']\n",
        "      \n",
        "    for row in data_row:\n",
        "        row['Name']= time\n",
        "        rows.append(row)\n",
        "        \n",
        "df = pd.DataFrame(rows)\n",
        "  \n",
        "# using pivot_table\n",
        "df = df.pivot_table(index ='Name', columns =['Grade'],\n",
        "                        values =['Exam']).reset_index()\n",
        "  \n",
        "# Defining columns\n",
        "df.columns =['Name', 'Maths', 'Physics', 'Chemistry']\n",
        "  \n",
        "# print dataframe\n",
        "print(df)"
      ],
      "metadata": {
        "colab": {
          "base_uri": "https://localhost:8080/"
        },
        "id": "Qi3UaZOw9lsO",
        "outputId": "16e6e161-8086-4f5e-e38e-253680256215"
      },
      "execution_count": null,
      "outputs": [
        {
          "output_type": "stream",
          "name": "stdout",
          "text": [
            "[{'Student': [{'Exam': 90, 'Grade': 'a'}, {'Exam': 99, 'Grade': 'b'}, {'Exam': 97, 'Grade': 'c'}], 'Name': 'Paras Jain'}, {'Student': [{'Exam': 89, 'Grade': 'a'}, {'Exam': 80, 'Grade': 'b'}], 'Name': 'Chunky Pandey'}]\n",
            "            Name  Maths  Physics  Chemistry\n",
            "0  Chunky Pandey   89.0     80.0        NaN\n",
            "1     Paras Jain   90.0     99.0       97.0\n"
          ]
        }
      ]
    },
    {
      "cell_type": "markdown",
      "source": [
        "15. Creating a dataframe from Pandas series"
      ],
      "metadata": {
        "id": "hEpQWcMR-_z8"
      }
    },
    {
      "cell_type": "code",
      "source": [
        "d =  pd.Series([10, 20, 30, 40])\n",
        "\n",
        "df = pd.DataFrame(d)\n",
        "df.columns=['numbers']\n",
        "df"
      ],
      "metadata": {
        "colab": {
          "base_uri": "https://localhost:8080/",
          "height": 175
        },
        "id": "pz6_Dy_j_DX_",
        "outputId": "42b08b8d-9f60-488c-8285-9f6d0dad02eb"
      },
      "execution_count": null,
      "outputs": [
        {
          "output_type": "execute_result",
          "data": {
            "text/plain": [
              "   numbers\n",
              "0       10\n",
              "1       20\n",
              "2       30\n",
              "3       40"
            ],
            "text/html": [
              "\n",
              "  <div id=\"df-54f9dec7-9c67-4bbb-a14a-92ec7addbcdb\">\n",
              "    <div class=\"colab-df-container\">\n",
              "      <div>\n",
              "<style scoped>\n",
              "    .dataframe tbody tr th:only-of-type {\n",
              "        vertical-align: middle;\n",
              "    }\n",
              "\n",
              "    .dataframe tbody tr th {\n",
              "        vertical-align: top;\n",
              "    }\n",
              "\n",
              "    .dataframe thead th {\n",
              "        text-align: right;\n",
              "    }\n",
              "</style>\n",
              "<table border=\"1\" class=\"dataframe\">\n",
              "  <thead>\n",
              "    <tr style=\"text-align: right;\">\n",
              "      <th></th>\n",
              "      <th>numbers</th>\n",
              "    </tr>\n",
              "  </thead>\n",
              "  <tbody>\n",
              "    <tr>\n",
              "      <th>0</th>\n",
              "      <td>10</td>\n",
              "    </tr>\n",
              "    <tr>\n",
              "      <th>1</th>\n",
              "      <td>20</td>\n",
              "    </tr>\n",
              "    <tr>\n",
              "      <th>2</th>\n",
              "      <td>30</td>\n",
              "    </tr>\n",
              "    <tr>\n",
              "      <th>3</th>\n",
              "      <td>40</td>\n",
              "    </tr>\n",
              "  </tbody>\n",
              "</table>\n",
              "</div>\n",
              "      <button class=\"colab-df-convert\" onclick=\"convertToInteractive('df-54f9dec7-9c67-4bbb-a14a-92ec7addbcdb')\"\n",
              "              title=\"Convert this dataframe to an interactive table.\"\n",
              "              style=\"display:none;\">\n",
              "        \n",
              "  <svg xmlns=\"http://www.w3.org/2000/svg\" height=\"24px\"viewBox=\"0 0 24 24\"\n",
              "       width=\"24px\">\n",
              "    <path d=\"M0 0h24v24H0V0z\" fill=\"none\"/>\n",
              "    <path d=\"M18.56 5.44l.94 2.06.94-2.06 2.06-.94-2.06-.94-.94-2.06-.94 2.06-2.06.94zm-11 1L8.5 8.5l.94-2.06 2.06-.94-2.06-.94L8.5 2.5l-.94 2.06-2.06.94zm10 10l.94 2.06.94-2.06 2.06-.94-2.06-.94-.94-2.06-.94 2.06-2.06.94z\"/><path d=\"M17.41 7.96l-1.37-1.37c-.4-.4-.92-.59-1.43-.59-.52 0-1.04.2-1.43.59L10.3 9.45l-7.72 7.72c-.78.78-.78 2.05 0 2.83L4 21.41c.39.39.9.59 1.41.59.51 0 1.02-.2 1.41-.59l7.78-7.78 2.81-2.81c.8-.78.8-2.07 0-2.86zM5.41 20L4 18.59l7.72-7.72 1.47 1.35L5.41 20z\"/>\n",
              "  </svg>\n",
              "      </button>\n",
              "      \n",
              "  <style>\n",
              "    .colab-df-container {\n",
              "      display:flex;\n",
              "      flex-wrap:wrap;\n",
              "      gap: 12px;\n",
              "    }\n",
              "\n",
              "    .colab-df-convert {\n",
              "      background-color: #E8F0FE;\n",
              "      border: none;\n",
              "      border-radius: 50%;\n",
              "      cursor: pointer;\n",
              "      display: none;\n",
              "      fill: #1967D2;\n",
              "      height: 32px;\n",
              "      padding: 0 0 0 0;\n",
              "      width: 32px;\n",
              "    }\n",
              "\n",
              "    .colab-df-convert:hover {\n",
              "      background-color: #E2EBFA;\n",
              "      box-shadow: 0px 1px 2px rgba(60, 64, 67, 0.3), 0px 1px 3px 1px rgba(60, 64, 67, 0.15);\n",
              "      fill: #174EA6;\n",
              "    }\n",
              "\n",
              "    [theme=dark] .colab-df-convert {\n",
              "      background-color: #3B4455;\n",
              "      fill: #D2E3FC;\n",
              "    }\n",
              "\n",
              "    [theme=dark] .colab-df-convert:hover {\n",
              "      background-color: #434B5C;\n",
              "      box-shadow: 0px 1px 3px 1px rgba(0, 0, 0, 0.15);\n",
              "      filter: drop-shadow(0px 1px 2px rgba(0, 0, 0, 0.3));\n",
              "      fill: #FFFFFF;\n",
              "    }\n",
              "  </style>\n",
              "\n",
              "      <script>\n",
              "        const buttonEl =\n",
              "          document.querySelector('#df-54f9dec7-9c67-4bbb-a14a-92ec7addbcdb button.colab-df-convert');\n",
              "        buttonEl.style.display =\n",
              "          google.colab.kernel.accessAllowed ? 'block' : 'none';\n",
              "\n",
              "        async function convertToInteractive(key) {\n",
              "          const element = document.querySelector('#df-54f9dec7-9c67-4bbb-a14a-92ec7addbcdb');\n",
              "          const dataTable =\n",
              "            await google.colab.kernel.invokeFunction('convertToInteractive',\n",
              "                                                     [key], {});\n",
              "          if (!dataTable) return;\n",
              "\n",
              "          const docLinkHtml = 'Like what you see? Visit the ' +\n",
              "            '<a target=\"_blank\" href=https://colab.research.google.com/notebooks/data_table.ipynb>data table notebook</a>'\n",
              "            + ' to learn more about interactive tables.';\n",
              "          element.innerHTML = '';\n",
              "          dataTable['output_type'] = 'display_data';\n",
              "          await google.colab.output.renderOutput(dataTable, element);\n",
              "          const docLink = document.createElement('div');\n",
              "          docLink.innerHTML = docLinkHtml;\n",
              "          element.appendChild(docLink);\n",
              "        }\n",
              "      </script>\n",
              "    </div>\n",
              "  </div>\n",
              "  "
            ]
          },
          "metadata": {},
          "execution_count": 34
        }
      ]
    },
    {
      "cell_type": "markdown",
      "source": [
        "16. Construct a DataFrame in Pandas using string data"
      ],
      "metadata": {
        "id": "U_CahCuLAePj"
      }
    },
    {
      "cell_type": "code",
      "source": [
        "from io import StringIO\n",
        "  \n",
        "# wrap the string data in StringIO function\n",
        "StringData = StringIO(\"\"\"Date;Event;Cost\n",
        "    10/2/2011;Music;10000\n",
        "    11/2/2011;Poetry;12000\n",
        "    12/2/2011;Theatre;5000\n",
        "    13/2/2011;Comedy;8000\n",
        "    \"\"\")\n",
        "\n",
        "# read_csv() function\n",
        "df = pd.read_csv(StringData, sep =\";\")\n",
        "\n",
        "print(df)"
      ],
      "metadata": {
        "colab": {
          "base_uri": "https://localhost:8080/"
        },
        "id": "D8Vhi9HOAh8U",
        "outputId": "b44205d0-2bb9-4378-a9ff-d04332eb2f53"
      },
      "execution_count": null,
      "outputs": [
        {
          "output_type": "stream",
          "name": "stdout",
          "text": [
            "            Date    Event   Cost\n",
            "0      10/2/2011    Music  10000\n",
            "1      11/2/2011   Poetry  12000\n",
            "2      12/2/2011  Theatre   5000\n",
            "3      13/2/2011   Comedy   8000\n"
          ]
        }
      ]
    },
    {
      "cell_type": "markdown",
      "source": [
        "17. Reindexing in Pandas DataFrame"
      ],
      "metadata": {
        "id": "jJBol8XDBJc3"
      }
    },
    {
      "cell_type": "code",
      "source": [
        "import numpy as np\n",
        " \n",
        "column=['a','b','c','d','e']\n",
        "index=['A','B','C','D','E']\n",
        " \n",
        "# create a dataframe of random values of array\n",
        "df1 = pd.DataFrame(np.random.rand(5,5),\n",
        "            columns=column, index=index)\n",
        " \n",
        "print(df1)\n",
        " \n",
        "print('\\n\\nDataframe after reindexing rows: \\n',\n",
        "df1.reindex(['B', 'D', 'A', 'C', 'E']))"
      ],
      "metadata": {
        "colab": {
          "base_uri": "https://localhost:8080/"
        },
        "id": "CVsZZutuBM4u",
        "outputId": "762f8523-6a79-4061-c198-b0c88aea501e"
      },
      "execution_count": null,
      "outputs": [
        {
          "output_type": "stream",
          "name": "stdout",
          "text": [
            "          a         b         c         d         e\n",
            "A  0.566151  0.378479  0.118233  0.026874  0.398317\n",
            "B  0.965292  0.407598  0.096285  0.330164  0.904790\n",
            "C  0.167124  0.505302  0.767007  0.105508  0.457146\n",
            "D  0.956309  0.778183  0.501250  0.783277  0.169554\n",
            "E  0.114672  0.972891  0.364967  0.561793  0.191757\n",
            "\n",
            "\n",
            "Dataframe after reindexing rows: \n",
            "           a         b         c         d         e\n",
            "B  0.965292  0.407598  0.096285  0.330164  0.904790\n",
            "D  0.956309  0.778183  0.501250  0.783277  0.169554\n",
            "A  0.566151  0.378479  0.118233  0.026874  0.398317\n",
            "C  0.167124  0.505302  0.767007  0.105508  0.457146\n",
            "E  0.114672  0.972891  0.364967  0.561793  0.191757\n"
          ]
        }
      ]
    },
    {
      "cell_type": "markdown",
      "source": [
        "18. Change column names and row indexes in Pandas DataFrame"
      ],
      "metadata": {
        "id": "p4ZRQ7O-By2y"
      }
    },
    {
      "cell_type": "code",
      "source": [
        "df=pd.DataFrame({\"Name\":['Tom','Nick','John','Peter'],\n",
        "                 \"Age\":[15,26,17,28]})\n",
        "  \n",
        "df\n",
        "df2 = df.rename({\"Name\":\"Col_1\",\"Age\":\"Col_2\"}, axis='columns')\n",
        "df3 = df.rename(index = lambda x: x + 10)\n",
        "\n",
        "df2\n",
        "df3\n"
      ],
      "metadata": {
        "colab": {
          "base_uri": "https://localhost:8080/",
          "height": 175
        },
        "id": "WMr502etB47S",
        "outputId": "9ddee5a6-cf83-4094-e722-0338610ca3a7"
      },
      "execution_count": null,
      "outputs": [
        {
          "output_type": "execute_result",
          "data": {
            "text/plain": [
              "     Name  Age\n",
              "10    Tom   15\n",
              "11   Nick   26\n",
              "12   John   17\n",
              "13  Peter   28"
            ],
            "text/html": [
              "\n",
              "  <div id=\"df-8afa71cc-a062-4694-a305-e414fd57f222\">\n",
              "    <div class=\"colab-df-container\">\n",
              "      <div>\n",
              "<style scoped>\n",
              "    .dataframe tbody tr th:only-of-type {\n",
              "        vertical-align: middle;\n",
              "    }\n",
              "\n",
              "    .dataframe tbody tr th {\n",
              "        vertical-align: top;\n",
              "    }\n",
              "\n",
              "    .dataframe thead th {\n",
              "        text-align: right;\n",
              "    }\n",
              "</style>\n",
              "<table border=\"1\" class=\"dataframe\">\n",
              "  <thead>\n",
              "    <tr style=\"text-align: right;\">\n",
              "      <th></th>\n",
              "      <th>Name</th>\n",
              "      <th>Age</th>\n",
              "    </tr>\n",
              "  </thead>\n",
              "  <tbody>\n",
              "    <tr>\n",
              "      <th>10</th>\n",
              "      <td>Tom</td>\n",
              "      <td>15</td>\n",
              "    </tr>\n",
              "    <tr>\n",
              "      <th>11</th>\n",
              "      <td>Nick</td>\n",
              "      <td>26</td>\n",
              "    </tr>\n",
              "    <tr>\n",
              "      <th>12</th>\n",
              "      <td>John</td>\n",
              "      <td>17</td>\n",
              "    </tr>\n",
              "    <tr>\n",
              "      <th>13</th>\n",
              "      <td>Peter</td>\n",
              "      <td>28</td>\n",
              "    </tr>\n",
              "  </tbody>\n",
              "</table>\n",
              "</div>\n",
              "      <button class=\"colab-df-convert\" onclick=\"convertToInteractive('df-8afa71cc-a062-4694-a305-e414fd57f222')\"\n",
              "              title=\"Convert this dataframe to an interactive table.\"\n",
              "              style=\"display:none;\">\n",
              "        \n",
              "  <svg xmlns=\"http://www.w3.org/2000/svg\" height=\"24px\"viewBox=\"0 0 24 24\"\n",
              "       width=\"24px\">\n",
              "    <path d=\"M0 0h24v24H0V0z\" fill=\"none\"/>\n",
              "    <path d=\"M18.56 5.44l.94 2.06.94-2.06 2.06-.94-2.06-.94-.94-2.06-.94 2.06-2.06.94zm-11 1L8.5 8.5l.94-2.06 2.06-.94-2.06-.94L8.5 2.5l-.94 2.06-2.06.94zm10 10l.94 2.06.94-2.06 2.06-.94-2.06-.94-.94-2.06-.94 2.06-2.06.94z\"/><path d=\"M17.41 7.96l-1.37-1.37c-.4-.4-.92-.59-1.43-.59-.52 0-1.04.2-1.43.59L10.3 9.45l-7.72 7.72c-.78.78-.78 2.05 0 2.83L4 21.41c.39.39.9.59 1.41.59.51 0 1.02-.2 1.41-.59l7.78-7.78 2.81-2.81c.8-.78.8-2.07 0-2.86zM5.41 20L4 18.59l7.72-7.72 1.47 1.35L5.41 20z\"/>\n",
              "  </svg>\n",
              "      </button>\n",
              "      \n",
              "  <style>\n",
              "    .colab-df-container {\n",
              "      display:flex;\n",
              "      flex-wrap:wrap;\n",
              "      gap: 12px;\n",
              "    }\n",
              "\n",
              "    .colab-df-convert {\n",
              "      background-color: #E8F0FE;\n",
              "      border: none;\n",
              "      border-radius: 50%;\n",
              "      cursor: pointer;\n",
              "      display: none;\n",
              "      fill: #1967D2;\n",
              "      height: 32px;\n",
              "      padding: 0 0 0 0;\n",
              "      width: 32px;\n",
              "    }\n",
              "\n",
              "    .colab-df-convert:hover {\n",
              "      background-color: #E2EBFA;\n",
              "      box-shadow: 0px 1px 2px rgba(60, 64, 67, 0.3), 0px 1px 3px 1px rgba(60, 64, 67, 0.15);\n",
              "      fill: #174EA6;\n",
              "    }\n",
              "\n",
              "    [theme=dark] .colab-df-convert {\n",
              "      background-color: #3B4455;\n",
              "      fill: #D2E3FC;\n",
              "    }\n",
              "\n",
              "    [theme=dark] .colab-df-convert:hover {\n",
              "      background-color: #434B5C;\n",
              "      box-shadow: 0px 1px 3px 1px rgba(0, 0, 0, 0.15);\n",
              "      filter: drop-shadow(0px 1px 2px rgba(0, 0, 0, 0.3));\n",
              "      fill: #FFFFFF;\n",
              "    }\n",
              "  </style>\n",
              "\n",
              "      <script>\n",
              "        const buttonEl =\n",
              "          document.querySelector('#df-8afa71cc-a062-4694-a305-e414fd57f222 button.colab-df-convert');\n",
              "        buttonEl.style.display =\n",
              "          google.colab.kernel.accessAllowed ? 'block' : 'none';\n",
              "\n",
              "        async function convertToInteractive(key) {\n",
              "          const element = document.querySelector('#df-8afa71cc-a062-4694-a305-e414fd57f222');\n",
              "          const dataTable =\n",
              "            await google.colab.kernel.invokeFunction('convertToInteractive',\n",
              "                                                     [key], {});\n",
              "          if (!dataTable) return;\n",
              "\n",
              "          const docLinkHtml = 'Like what you see? Visit the ' +\n",
              "            '<a target=\"_blank\" href=https://colab.research.google.com/notebooks/data_table.ipynb>data table notebook</a>'\n",
              "            + ' to learn more about interactive tables.';\n",
              "          element.innerHTML = '';\n",
              "          dataTable['output_type'] = 'display_data';\n",
              "          await google.colab.output.renderOutput(dataTable, element);\n",
              "          const docLink = document.createElement('div');\n",
              "          docLink.innerHTML = docLinkHtml;\n",
              "          element.appendChild(docLink);\n",
              "        }\n",
              "      </script>\n",
              "    </div>\n",
              "  </div>\n",
              "  "
            ]
          },
          "metadata": {},
          "execution_count": 48
        }
      ]
    },
    {
      "cell_type": "markdown",
      "source": [
        ""
      ],
      "metadata": {
        "id": "ZUf_Wu6gxC3C"
      }
    }
  ]
}