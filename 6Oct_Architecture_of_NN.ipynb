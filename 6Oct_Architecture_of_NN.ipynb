{
  "cells": [
    {
      "cell_type": "markdown",
      "metadata": {
        "id": "view-in-github",
        "colab_type": "text"
      },
      "source": [
        "<a href=\"https://colab.research.google.com/github/SUNITHA123-THUMMA/sunitha-/blob/main/6Oct_Architecture_of_NN.ipynb\" target=\"_parent\"><img src=\"https://colab.research.google.com/assets/colab-badge.svg\" alt=\"Open In Colab\"/></a>"
      ]
    },
    {
      "cell_type": "markdown",
      "id": "806b4e13",
      "metadata": {
        "id": "806b4e13"
      },
      "source": [
        "<img src=\"nn.png\" height=\"400\" width=\"400\">"
      ]
    },
    {
      "cell_type": "markdown",
      "id": "7497c127",
      "metadata": {
        "id": "7497c127"
      },
      "source": [
        "### Forward Propagation\n",
        "\n",
        "<pre>\n",
        "Inputs : x1,x2,x3\n",
        "Output : y\n",
        "Hidden Layers: H1 and H2\n",
        "Output Layer: \n",
        "\n",
        "Weights assigned between Input Layer and H1\n",
        "x1 - w11,w12,w13,w14\n",
        "x2 - w21,w22,w23,w24\n",
        "x3 - w31,w32,w33,w34\n",
        "\n",
        "Bais assigned at H1 - b11,b12,b13,b14\n",
        "\n",
        "\n",
        "### Inputs Recived at H1\n",
        "H11_in = x1 * w11 + x2 * w21 + x3 * w31 + b11\n",
        "H12_in = x1 * w12 + x2 * w22 + x3 * w32 + b11\n",
        "H13_in = x1 * w13 + x2 * w23 + x3 * w33 + b11\n",
        "H14_in = x1 * w14 + x2 * w24 + x3 * w34 + b11\n",
        "\n",
        "#### Output from H1\n",
        "H11_out = Activation(H11_in)\n",
        "H12_out = Activation(H12_in)\n",
        "H13_out = Activation(H13_in)\n",
        "H14_out = Activation(H14_in)\n",
        "\n",
        "#### Weights assigned between H1 and H2\n",
        "H11 - w41,w42,w43,w44\n",
        "H12 - w51,w52,w53,w54\n",
        "H13 - w61,w62,w63,w64\n",
        "H14 - w71,w72,w73,w74\n",
        "\n",
        "Bais assigned at H2 - b21,b22,b23,b24\n",
        "\n",
        "#### Input at H2\n",
        "H21_in = H11_out * w41 + H12_out * w51 + H13_out * w61 + H14_out * w71\n",
        "H22_in = H11_out * w42 + H12_out * w52 + H13_out * w62 + H14_out * w72\n",
        "H23_in = H11_out * w43 + H12_out * w53 + H13_out * w63 + H14_out * w73\n",
        "H24_in = H11_out * w44 + H12_out * w54 + H13_out * w64 + H14_out * w74\n",
        "\n",
        "#### Output from H2\n",
        "H21_out = Activation(H21_in)\n",
        "H22_out = Activation(H22_in)\n",
        "H23_out = Activation(H23_in)\n",
        "H24_out = Activation(H24_in)\n",
        "\n",
        "#### Weights assigned between H2 and Output Layer\n",
        "H21 - w81\n",
        "H22 - w91\n",
        "H23 - w101\n",
        "H24 - w111\n",
        "\n",
        "Bais assigned at Output layer - b31\n",
        "\n",
        "ypred = H21_out * w81 + H22_out * w91 + H23_out * w101 + H24_out * w111\n",
        "\n",
        "\n",
        "Error = (1/n)*sum[(yi - ypredi)^2]\n",
        "\n",
        "The objective is to min the Error\n",
        "\n",
        "</pre>\n"
      ]
    },
    {
      "cell_type": "markdown",
      "id": "7b31277d",
      "metadata": {
        "id": "7b31277d"
      },
      "source": [
        "#### Backward Propagation\n",
        "<pre>\n",
        "Updating weights and bias - so as to minimize Error in the next iteration\n",
        "\n",
        "ypred = sum(w*x) + b\n",
        "Error = (1/n)*sum[(yi - ypredi)^2]\n",
        "\n",
        "Error = (1/n)*sum[(yi - (wi*xi)+bi)^2]\n",
        "Error(w,b) = (1/n)*sum[(yi - (wi*xi)+bi)^2]\n",
        "\n",
        "Objective - Minimize Err\n",
        "\n",
        "#### Partial derivatives of Err wrt wieght and bias\n",
        "dError/dw = -(2/n)*sum([yi - ((wi*xi)+bi) *xi])\n",
        "dError/db = -(2/n)*sum([yi - ((wi*xi)+bi) ])\n",
        "\n",
        "#### Using Gradient Descent Optmizer\n",
        "\n",
        "w_new = w - alpah * dError/dw\n",
        "b_new = b - alpah * dError/db\n",
        "</pre>\n",
        "\n"
      ]
    },
    {
      "cell_type": "code",
      "execution_count": null,
      "id": "e0321061",
      "metadata": {
        "id": "e0321061"
      },
      "outputs": [],
      "source": []
    }
  ],
  "metadata": {
    "kernelspec": {
      "display_name": "Python 3",
      "language": "python",
      "name": "python3"
    },
    "language_info": {
      "codemirror_mode": {
        "name": "ipython",
        "version": 3
      },
      "file_extension": ".py",
      "mimetype": "text/x-python",
      "name": "python",
      "nbconvert_exporter": "python",
      "pygments_lexer": "ipython3",
      "version": "3.8.8"
    },
    "colab": {
      "provenance": [],
      "include_colab_link": true
    }
  },
  "nbformat": 4,
  "nbformat_minor": 5
}