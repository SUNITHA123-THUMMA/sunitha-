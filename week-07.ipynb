{
  "nbformat": 4,
  "nbformat_minor": 0,
  "metadata": {
    "colab": {
      "name": "Copy of Copy of Untitled0.ipynb",
      "provenance": [],
      "collapsed_sections": [],
      "authorship_tag": "ABX9TyMqB6dEtlP1msp5Wrupz9ir",
      "include_colab_link": true
    },
    "kernelspec": {
      "name": "python3",
      "display_name": "Python 3"
    },
    "language_info": {
      "name": "python"
    }
  },
  "cells": [
    {
      "cell_type": "markdown",
      "metadata": {
        "id": "view-in-github",
        "colab_type": "text"
      },
      "source": [
        "<a href=\"https://colab.research.google.com/github/SUNITHA123-THUMMA/sunitha-/blob/main/week-07.ipynb\" target=\"_parent\"><img src=\"https://colab.research.google.com/assets/colab-badge.svg\" alt=\"Open In Colab\"/></a>"
      ]
    },
    {
      "cell_type": "markdown",
      "source": [
        "                                        **WEEK-07**\n",
        "ID NO:N180091\n",
        "\n",
        "NAME:T.Sunitha\n",
        "\n",
        "DATE:14-07-2022"
      ],
      "metadata": {
        "id": "GFuYUQcLCgYO"
      }
    },
    {
      "cell_type": "markdown",
      "source": [
        "1. Take this dataset and What would happen if we wanted to try and\n",
        "compute the mean of numbers?\n",
        "\n",
        "df = pd.DataFrame({&quot;numbers&quot;: [&quot;#23&quot;, &quot;#24&quot;, &quot;#18&quot;, &quot;#14&quot;, &quot;#12&quot;, &quot;#10&quot;, &quot;#35&quot;],\n",
        "\n",
        "&quot;nums&quot;: [&quot;23&quot;, &quot;24&quot;, &quot;18&quot;, &quot;14&quot;, np.nan, &quot;XYZ&quot;, &quot;35&quot;],\n",
        "\n",
        "&quot;colors&quot;: [&quot;green&quot;, &quot;red&quot;, &quot;yellow&quot;, &quot;orange&quot;, &quot;purple&quot;, &quot;blue&quot;, &quot;pink&quot;],\n",
        "\n",
        "&quot;other_column&quot;: [0, 1, 0, 2, 1, 0, 2]})\n",
        "\n",
        "It throws an error!\n",
        "Can you figure out why?\n",
        "Hint\n",
        "When looking at error messages, start at the very bottom.\n",
        "\n",
        "String Methods\n",
        "Our solution to the previous exercise was to remove the # by using\n",
        "the replace string method: int(c2n.replace(&quot;#&quot;, &quot;&quot;)).\n"
      ],
      "metadata": {
        "id": "4snKxNpkCizJ"
      }
    },
    {
      "cell_type": "code",
      "source": [
        "import pandas as pd\n",
        "import numpy as np\n",
        "df = pd.DataFrame({\"numbers\": [\"#23\", \"#24\",\"#18\",\"#14\",\"#12\", \"#10\", \"#35\"],\n",
        "\"nums\": [\"23\",\"24\",\"18\",\"14\", np.nan,\"XYZ\",\"35\"],\n",
        "\"colors\": [\"green\", \"red\", \"yellow\",\"orange\",\"purple\",\"blue\", \"pink\"],\n",
        "\"other_column\": [0, 1, 0, 2, 1, 0, 2]})\n",
        "print(df)"
      ],
      "metadata": {
        "colab": {
          "base_uri": "https://localhost:8080/",
          "height": 0
        },
        "id": "mQaIo-YXCjQI",
        "outputId": "80e92716-a012-4e0f-8715-634480293722"
      },
      "execution_count": 1,
      "outputs": [
        {
          "output_type": "stream",
          "name": "stdout",
          "text": [
            "  numbers nums  colors  other_column\n",
            "0     #23   23   green             0\n",
            "1     #24   24     red             1\n",
            "2     #18   18  yellow             0\n",
            "3     #14   14  orange             2\n",
            "4     #12  NaN  purple             1\n",
            "5     #10  XYZ    blue             0\n",
            "6     #35   35    pink             2\n"
          ]
        }
      ]
    },
    {
      "cell_type": "code",
      "source": [
        "df['numbers'] = df['numbers'].str.replace('#','0')\n",
        "print(df)\n"
      ],
      "metadata": {
        "colab": {
          "base_uri": "https://localhost:8080/",
          "height": 0
        },
        "id": "ygU9xRrUG90C",
        "outputId": "8e5d4827-fa47-4aa1-e041-dbf855237f56"
      },
      "execution_count": 2,
      "outputs": [
        {
          "output_type": "stream",
          "name": "stdout",
          "text": [
            "  numbers nums  colors  other_column\n",
            "0     023   23   green             0\n",
            "1     024   24     red             1\n",
            "2     018   18  yellow             0\n",
            "3     014   14  orange             2\n",
            "4     012  NaN  purple             1\n",
            "5     010  XYZ    blue             0\n",
            "6     035   35    pink             2\n"
          ]
        }
      ]
    },
    {
      "cell_type": "markdown",
      "source": [
        "2. Type Conversions\n",
        "In our example above, the dtype of the numbers_str column shows that pandas\n",
        "still treats it as a string even after we have removed the &quot;#&quot;.\n",
        "\n",
        " We need to convert this column to numbers."
      ],
      "metadata": {
        "id": "13Qjcrz6Ona2"
      }
    },
    {
      "cell_type": "code",
      "source": [
        "df[\"numbers\"]=pd.to_numeric(df[\"numbers\"])\n",
        "print(df.dtypes)"
      ],
      "metadata": {
        "colab": {
          "base_uri": "https://localhost:8080/",
          "height": 0
        },
        "id": "aAqzdl-nRMg_",
        "outputId": "76930e27-905c-47d8-c08a-89b8cd51d38b"
      },
      "execution_count": 3,
      "outputs": [
        {
          "output_type": "stream",
          "name": "stdout",
          "text": [
            "numbers          int64\n",
            "nums            object\n",
            "colors          object\n",
            "other_column     int64\n",
            "dtype: object\n"
          ]
        }
      ]
    },
    {
      "cell_type": "markdown",
      "source": [
        "\n",
        "3. Missing Data\n",
        "Many datasets have missing data. In our example, we are missing an\n",
        "element.\n",
        "Many approaches have been developed to deal with missing data,\n",
        "\n",
        "\n",
        "\n"
      ],
      "metadata": {
        "id": "RxUCcQ4KSbPy"
      }
    },
    {
      "cell_type": "markdown",
      "source": [
        "# drop all rows containing a missing observation"
      ],
      "metadata": {
        "id": "Dw9QGDjjaMwa"
      }
    },
    {
      "cell_type": "code",
      "source": [
        "df.dropna()"
      ],
      "metadata": {
        "id": "6khrmolZSrq0",
        "colab": {
          "base_uri": "https://localhost:8080/",
          "height": 238
        },
        "outputId": "981f1c31-6f16-40ee-b37e-a804b47a2924"
      },
      "execution_count": 4,
      "outputs": [
        {
          "output_type": "execute_result",
          "data": {
            "text/plain": [
              "   numbers nums  colors  other_column\n",
              "0       23   23   green             0\n",
              "1       24   24     red             1\n",
              "2       18   18  yellow             0\n",
              "3       14   14  orange             2\n",
              "5       10  XYZ    blue             0\n",
              "6       35   35    pink             2"
            ],
            "text/html": [
              "\n",
              "  <div id=\"df-e0596770-c23f-45a2-821d-7488b6e10663\">\n",
              "    <div class=\"colab-df-container\">\n",
              "      <div>\n",
              "<style scoped>\n",
              "    .dataframe tbody tr th:only-of-type {\n",
              "        vertical-align: middle;\n",
              "    }\n",
              "\n",
              "    .dataframe tbody tr th {\n",
              "        vertical-align: top;\n",
              "    }\n",
              "\n",
              "    .dataframe thead th {\n",
              "        text-align: right;\n",
              "    }\n",
              "</style>\n",
              "<table border=\"1\" class=\"dataframe\">\n",
              "  <thead>\n",
              "    <tr style=\"text-align: right;\">\n",
              "      <th></th>\n",
              "      <th>numbers</th>\n",
              "      <th>nums</th>\n",
              "      <th>colors</th>\n",
              "      <th>other_column</th>\n",
              "    </tr>\n",
              "  </thead>\n",
              "  <tbody>\n",
              "    <tr>\n",
              "      <th>0</th>\n",
              "      <td>23</td>\n",
              "      <td>23</td>\n",
              "      <td>green</td>\n",
              "      <td>0</td>\n",
              "    </tr>\n",
              "    <tr>\n",
              "      <th>1</th>\n",
              "      <td>24</td>\n",
              "      <td>24</td>\n",
              "      <td>red</td>\n",
              "      <td>1</td>\n",
              "    </tr>\n",
              "    <tr>\n",
              "      <th>2</th>\n",
              "      <td>18</td>\n",
              "      <td>18</td>\n",
              "      <td>yellow</td>\n",
              "      <td>0</td>\n",
              "    </tr>\n",
              "    <tr>\n",
              "      <th>3</th>\n",
              "      <td>14</td>\n",
              "      <td>14</td>\n",
              "      <td>orange</td>\n",
              "      <td>2</td>\n",
              "    </tr>\n",
              "    <tr>\n",
              "      <th>5</th>\n",
              "      <td>10</td>\n",
              "      <td>XYZ</td>\n",
              "      <td>blue</td>\n",
              "      <td>0</td>\n",
              "    </tr>\n",
              "    <tr>\n",
              "      <th>6</th>\n",
              "      <td>35</td>\n",
              "      <td>35</td>\n",
              "      <td>pink</td>\n",
              "      <td>2</td>\n",
              "    </tr>\n",
              "  </tbody>\n",
              "</table>\n",
              "</div>\n",
              "      <button class=\"colab-df-convert\" onclick=\"convertToInteractive('df-e0596770-c23f-45a2-821d-7488b6e10663')\"\n",
              "              title=\"Convert this dataframe to an interactive table.\"\n",
              "              style=\"display:none;\">\n",
              "        \n",
              "  <svg xmlns=\"http://www.w3.org/2000/svg\" height=\"24px\"viewBox=\"0 0 24 24\"\n",
              "       width=\"24px\">\n",
              "    <path d=\"M0 0h24v24H0V0z\" fill=\"none\"/>\n",
              "    <path d=\"M18.56 5.44l.94 2.06.94-2.06 2.06-.94-2.06-.94-.94-2.06-.94 2.06-2.06.94zm-11 1L8.5 8.5l.94-2.06 2.06-.94-2.06-.94L8.5 2.5l-.94 2.06-2.06.94zm10 10l.94 2.06.94-2.06 2.06-.94-2.06-.94-.94-2.06-.94 2.06-2.06.94z\"/><path d=\"M17.41 7.96l-1.37-1.37c-.4-.4-.92-.59-1.43-.59-.52 0-1.04.2-1.43.59L10.3 9.45l-7.72 7.72c-.78.78-.78 2.05 0 2.83L4 21.41c.39.39.9.59 1.41.59.51 0 1.02-.2 1.41-.59l7.78-7.78 2.81-2.81c.8-.78.8-2.07 0-2.86zM5.41 20L4 18.59l7.72-7.72 1.47 1.35L5.41 20z\"/>\n",
              "  </svg>\n",
              "      </button>\n",
              "      \n",
              "  <style>\n",
              "    .colab-df-container {\n",
              "      display:flex;\n",
              "      flex-wrap:wrap;\n",
              "      gap: 12px;\n",
              "    }\n",
              "\n",
              "    .colab-df-convert {\n",
              "      background-color: #E8F0FE;\n",
              "      border: none;\n",
              "      border-radius: 50%;\n",
              "      cursor: pointer;\n",
              "      display: none;\n",
              "      fill: #1967D2;\n",
              "      height: 32px;\n",
              "      padding: 0 0 0 0;\n",
              "      width: 32px;\n",
              "    }\n",
              "\n",
              "    .colab-df-convert:hover {\n",
              "      background-color: #E2EBFA;\n",
              "      box-shadow: 0px 1px 2px rgba(60, 64, 67, 0.3), 0px 1px 3px 1px rgba(60, 64, 67, 0.15);\n",
              "      fill: #174EA6;\n",
              "    }\n",
              "\n",
              "    [theme=dark] .colab-df-convert {\n",
              "      background-color: #3B4455;\n",
              "      fill: #D2E3FC;\n",
              "    }\n",
              "\n",
              "    [theme=dark] .colab-df-convert:hover {\n",
              "      background-color: #434B5C;\n",
              "      box-shadow: 0px 1px 3px 1px rgba(0, 0, 0, 0.15);\n",
              "      filter: drop-shadow(0px 1px 2px rgba(0, 0, 0, 0.3));\n",
              "      fill: #FFFFFF;\n",
              "    }\n",
              "  </style>\n",
              "\n",
              "      <script>\n",
              "        const buttonEl =\n",
              "          document.querySelector('#df-e0596770-c23f-45a2-821d-7488b6e10663 button.colab-df-convert');\n",
              "        buttonEl.style.display =\n",
              "          google.colab.kernel.accessAllowed ? 'block' : 'none';\n",
              "\n",
              "        async function convertToInteractive(key) {\n",
              "          const element = document.querySelector('#df-e0596770-c23f-45a2-821d-7488b6e10663');\n",
              "          const dataTable =\n",
              "            await google.colab.kernel.invokeFunction('convertToInteractive',\n",
              "                                                     [key], {});\n",
              "          if (!dataTable) return;\n",
              "\n",
              "          const docLinkHtml = 'Like what you see? Visit the ' +\n",
              "            '<a target=\"_blank\" href=https://colab.research.google.com/notebooks/data_table.ipynb>data table notebook</a>'\n",
              "            + ' to learn more about interactive tables.';\n",
              "          element.innerHTML = '';\n",
              "          dataTable['output_type'] = 'display_data';\n",
              "          await google.colab.output.renderOutput(dataTable, element);\n",
              "          const docLink = document.createElement('div');\n",
              "          docLink.innerHTML = docLinkHtml;\n",
              "          element.appendChild(docLink);\n",
              "        }\n",
              "      </script>\n",
              "    </div>\n",
              "  </div>\n",
              "  "
            ]
          },
          "metadata": {},
          "execution_count": 4
        }
      ]
    },
    {
      "cell_type": "code",
      "source": [
        "df\n"
      ],
      "metadata": {
        "colab": {
          "base_uri": "https://localhost:8080/",
          "height": 269
        },
        "id": "v4DoBEtqYnpw",
        "outputId": "706f78b4-3269-4a84-a9a9-049871b8a202"
      },
      "execution_count": 5,
      "outputs": [
        {
          "output_type": "execute_result",
          "data": {
            "text/plain": [
              "   numbers nums  colors  other_column\n",
              "0       23   23   green             0\n",
              "1       24   24     red             1\n",
              "2       18   18  yellow             0\n",
              "3       14   14  orange             2\n",
              "4       12  NaN  purple             1\n",
              "5       10  XYZ    blue             0\n",
              "6       35   35    pink             2"
            ],
            "text/html": [
              "\n",
              "  <div id=\"df-a89f4932-38de-482e-b7e3-0fc95ac4deea\">\n",
              "    <div class=\"colab-df-container\">\n",
              "      <div>\n",
              "<style scoped>\n",
              "    .dataframe tbody tr th:only-of-type {\n",
              "        vertical-align: middle;\n",
              "    }\n",
              "\n",
              "    .dataframe tbody tr th {\n",
              "        vertical-align: top;\n",
              "    }\n",
              "\n",
              "    .dataframe thead th {\n",
              "        text-align: right;\n",
              "    }\n",
              "</style>\n",
              "<table border=\"1\" class=\"dataframe\">\n",
              "  <thead>\n",
              "    <tr style=\"text-align: right;\">\n",
              "      <th></th>\n",
              "      <th>numbers</th>\n",
              "      <th>nums</th>\n",
              "      <th>colors</th>\n",
              "      <th>other_column</th>\n",
              "    </tr>\n",
              "  </thead>\n",
              "  <tbody>\n",
              "    <tr>\n",
              "      <th>0</th>\n",
              "      <td>23</td>\n",
              "      <td>23</td>\n",
              "      <td>green</td>\n",
              "      <td>0</td>\n",
              "    </tr>\n",
              "    <tr>\n",
              "      <th>1</th>\n",
              "      <td>24</td>\n",
              "      <td>24</td>\n",
              "      <td>red</td>\n",
              "      <td>1</td>\n",
              "    </tr>\n",
              "    <tr>\n",
              "      <th>2</th>\n",
              "      <td>18</td>\n",
              "      <td>18</td>\n",
              "      <td>yellow</td>\n",
              "      <td>0</td>\n",
              "    </tr>\n",
              "    <tr>\n",
              "      <th>3</th>\n",
              "      <td>14</td>\n",
              "      <td>14</td>\n",
              "      <td>orange</td>\n",
              "      <td>2</td>\n",
              "    </tr>\n",
              "    <tr>\n",
              "      <th>4</th>\n",
              "      <td>12</td>\n",
              "      <td>NaN</td>\n",
              "      <td>purple</td>\n",
              "      <td>1</td>\n",
              "    </tr>\n",
              "    <tr>\n",
              "      <th>5</th>\n",
              "      <td>10</td>\n",
              "      <td>XYZ</td>\n",
              "      <td>blue</td>\n",
              "      <td>0</td>\n",
              "    </tr>\n",
              "    <tr>\n",
              "      <th>6</th>\n",
              "      <td>35</td>\n",
              "      <td>35</td>\n",
              "      <td>pink</td>\n",
              "      <td>2</td>\n",
              "    </tr>\n",
              "  </tbody>\n",
              "</table>\n",
              "</div>\n",
              "      <button class=\"colab-df-convert\" onclick=\"convertToInteractive('df-a89f4932-38de-482e-b7e3-0fc95ac4deea')\"\n",
              "              title=\"Convert this dataframe to an interactive table.\"\n",
              "              style=\"display:none;\">\n",
              "        \n",
              "  <svg xmlns=\"http://www.w3.org/2000/svg\" height=\"24px\"viewBox=\"0 0 24 24\"\n",
              "       width=\"24px\">\n",
              "    <path d=\"M0 0h24v24H0V0z\" fill=\"none\"/>\n",
              "    <path d=\"M18.56 5.44l.94 2.06.94-2.06 2.06-.94-2.06-.94-.94-2.06-.94 2.06-2.06.94zm-11 1L8.5 8.5l.94-2.06 2.06-.94-2.06-.94L8.5 2.5l-.94 2.06-2.06.94zm10 10l.94 2.06.94-2.06 2.06-.94-2.06-.94-.94-2.06-.94 2.06-2.06.94z\"/><path d=\"M17.41 7.96l-1.37-1.37c-.4-.4-.92-.59-1.43-.59-.52 0-1.04.2-1.43.59L10.3 9.45l-7.72 7.72c-.78.78-.78 2.05 0 2.83L4 21.41c.39.39.9.59 1.41.59.51 0 1.02-.2 1.41-.59l7.78-7.78 2.81-2.81c.8-.78.8-2.07 0-2.86zM5.41 20L4 18.59l7.72-7.72 1.47 1.35L5.41 20z\"/>\n",
              "  </svg>\n",
              "      </button>\n",
              "      \n",
              "  <style>\n",
              "    .colab-df-container {\n",
              "      display:flex;\n",
              "      flex-wrap:wrap;\n",
              "      gap: 12px;\n",
              "    }\n",
              "\n",
              "    .colab-df-convert {\n",
              "      background-color: #E8F0FE;\n",
              "      border: none;\n",
              "      border-radius: 50%;\n",
              "      cursor: pointer;\n",
              "      display: none;\n",
              "      fill: #1967D2;\n",
              "      height: 32px;\n",
              "      padding: 0 0 0 0;\n",
              "      width: 32px;\n",
              "    }\n",
              "\n",
              "    .colab-df-convert:hover {\n",
              "      background-color: #E2EBFA;\n",
              "      box-shadow: 0px 1px 2px rgba(60, 64, 67, 0.3), 0px 1px 3px 1px rgba(60, 64, 67, 0.15);\n",
              "      fill: #174EA6;\n",
              "    }\n",
              "\n",
              "    [theme=dark] .colab-df-convert {\n",
              "      background-color: #3B4455;\n",
              "      fill: #D2E3FC;\n",
              "    }\n",
              "\n",
              "    [theme=dark] .colab-df-convert:hover {\n",
              "      background-color: #434B5C;\n",
              "      box-shadow: 0px 1px 3px 1px rgba(0, 0, 0, 0.15);\n",
              "      filter: drop-shadow(0px 1px 2px rgba(0, 0, 0, 0.3));\n",
              "      fill: #FFFFFF;\n",
              "    }\n",
              "  </style>\n",
              "\n",
              "      <script>\n",
              "        const buttonEl =\n",
              "          document.querySelector('#df-a89f4932-38de-482e-b7e3-0fc95ac4deea button.colab-df-convert');\n",
              "        buttonEl.style.display =\n",
              "          google.colab.kernel.accessAllowed ? 'block' : 'none';\n",
              "\n",
              "        async function convertToInteractive(key) {\n",
              "          const element = document.querySelector('#df-a89f4932-38de-482e-b7e3-0fc95ac4deea');\n",
              "          const dataTable =\n",
              "            await google.colab.kernel.invokeFunction('convertToInteractive',\n",
              "                                                     [key], {});\n",
              "          if (!dataTable) return;\n",
              "\n",
              "          const docLinkHtml = 'Like what you see? Visit the ' +\n",
              "            '<a target=\"_blank\" href=https://colab.research.google.com/notebooks/data_table.ipynb>data table notebook</a>'\n",
              "            + ' to learn more about interactive tables.';\n",
              "          element.innerHTML = '';\n",
              "          dataTable['output_type'] = 'display_data';\n",
              "          await google.colab.output.renderOutput(dataTable, element);\n",
              "          const docLink = document.createElement('div');\n",
              "          docLink.innerHTML = docLinkHtml;\n",
              "          element.appendChild(docLink);\n",
              "        }\n",
              "      </script>\n",
              "    </div>\n",
              "  </div>\n",
              "  "
            ]
          },
          "metadata": {},
          "execution_count": 5
        }
      ]
    },
    {
      "cell_type": "markdown",
      "source": [
        "# fill the missing values with a specific value(with any related value)"
      ],
      "metadata": {
        "id": "M8WjLecQaVGh"
      }
    },
    {
      "cell_type": "code",
      "source": [
        "df.fillna(0)"
      ],
      "metadata": {
        "colab": {
          "base_uri": "https://localhost:8080/",
          "height": 269
        },
        "id": "xwvpKl4_Zqoh",
        "outputId": "5d7e5c16-11e5-44a7-f575-2354d003b806"
      },
      "execution_count": 6,
      "outputs": [
        {
          "output_type": "execute_result",
          "data": {
            "text/plain": [
              "   numbers nums  colors  other_column\n",
              "0       23   23   green             0\n",
              "1       24   24     red             1\n",
              "2       18   18  yellow             0\n",
              "3       14   14  orange             2\n",
              "4       12    0  purple             1\n",
              "5       10  XYZ    blue             0\n",
              "6       35   35    pink             2"
            ],
            "text/html": [
              "\n",
              "  <div id=\"df-57082db9-f968-4919-b732-496277e546f7\">\n",
              "    <div class=\"colab-df-container\">\n",
              "      <div>\n",
              "<style scoped>\n",
              "    .dataframe tbody tr th:only-of-type {\n",
              "        vertical-align: middle;\n",
              "    }\n",
              "\n",
              "    .dataframe tbody tr th {\n",
              "        vertical-align: top;\n",
              "    }\n",
              "\n",
              "    .dataframe thead th {\n",
              "        text-align: right;\n",
              "    }\n",
              "</style>\n",
              "<table border=\"1\" class=\"dataframe\">\n",
              "  <thead>\n",
              "    <tr style=\"text-align: right;\">\n",
              "      <th></th>\n",
              "      <th>numbers</th>\n",
              "      <th>nums</th>\n",
              "      <th>colors</th>\n",
              "      <th>other_column</th>\n",
              "    </tr>\n",
              "  </thead>\n",
              "  <tbody>\n",
              "    <tr>\n",
              "      <th>0</th>\n",
              "      <td>23</td>\n",
              "      <td>23</td>\n",
              "      <td>green</td>\n",
              "      <td>0</td>\n",
              "    </tr>\n",
              "    <tr>\n",
              "      <th>1</th>\n",
              "      <td>24</td>\n",
              "      <td>24</td>\n",
              "      <td>red</td>\n",
              "      <td>1</td>\n",
              "    </tr>\n",
              "    <tr>\n",
              "      <th>2</th>\n",
              "      <td>18</td>\n",
              "      <td>18</td>\n",
              "      <td>yellow</td>\n",
              "      <td>0</td>\n",
              "    </tr>\n",
              "    <tr>\n",
              "      <th>3</th>\n",
              "      <td>14</td>\n",
              "      <td>14</td>\n",
              "      <td>orange</td>\n",
              "      <td>2</td>\n",
              "    </tr>\n",
              "    <tr>\n",
              "      <th>4</th>\n",
              "      <td>12</td>\n",
              "      <td>0</td>\n",
              "      <td>purple</td>\n",
              "      <td>1</td>\n",
              "    </tr>\n",
              "    <tr>\n",
              "      <th>5</th>\n",
              "      <td>10</td>\n",
              "      <td>XYZ</td>\n",
              "      <td>blue</td>\n",
              "      <td>0</td>\n",
              "    </tr>\n",
              "    <tr>\n",
              "      <th>6</th>\n",
              "      <td>35</td>\n",
              "      <td>35</td>\n",
              "      <td>pink</td>\n",
              "      <td>2</td>\n",
              "    </tr>\n",
              "  </tbody>\n",
              "</table>\n",
              "</div>\n",
              "      <button class=\"colab-df-convert\" onclick=\"convertToInteractive('df-57082db9-f968-4919-b732-496277e546f7')\"\n",
              "              title=\"Convert this dataframe to an interactive table.\"\n",
              "              style=\"display:none;\">\n",
              "        \n",
              "  <svg xmlns=\"http://www.w3.org/2000/svg\" height=\"24px\"viewBox=\"0 0 24 24\"\n",
              "       width=\"24px\">\n",
              "    <path d=\"M0 0h24v24H0V0z\" fill=\"none\"/>\n",
              "    <path d=\"M18.56 5.44l.94 2.06.94-2.06 2.06-.94-2.06-.94-.94-2.06-.94 2.06-2.06.94zm-11 1L8.5 8.5l.94-2.06 2.06-.94-2.06-.94L8.5 2.5l-.94 2.06-2.06.94zm10 10l.94 2.06.94-2.06 2.06-.94-2.06-.94-.94-2.06-.94 2.06-2.06.94z\"/><path d=\"M17.41 7.96l-1.37-1.37c-.4-.4-.92-.59-1.43-.59-.52 0-1.04.2-1.43.59L10.3 9.45l-7.72 7.72c-.78.78-.78 2.05 0 2.83L4 21.41c.39.39.9.59 1.41.59.51 0 1.02-.2 1.41-.59l7.78-7.78 2.81-2.81c.8-.78.8-2.07 0-2.86zM5.41 20L4 18.59l7.72-7.72 1.47 1.35L5.41 20z\"/>\n",
              "  </svg>\n",
              "      </button>\n",
              "      \n",
              "  <style>\n",
              "    .colab-df-container {\n",
              "      display:flex;\n",
              "      flex-wrap:wrap;\n",
              "      gap: 12px;\n",
              "    }\n",
              "\n",
              "    .colab-df-convert {\n",
              "      background-color: #E8F0FE;\n",
              "      border: none;\n",
              "      border-radius: 50%;\n",
              "      cursor: pointer;\n",
              "      display: none;\n",
              "      fill: #1967D2;\n",
              "      height: 32px;\n",
              "      padding: 0 0 0 0;\n",
              "      width: 32px;\n",
              "    }\n",
              "\n",
              "    .colab-df-convert:hover {\n",
              "      background-color: #E2EBFA;\n",
              "      box-shadow: 0px 1px 2px rgba(60, 64, 67, 0.3), 0px 1px 3px 1px rgba(60, 64, 67, 0.15);\n",
              "      fill: #174EA6;\n",
              "    }\n",
              "\n",
              "    [theme=dark] .colab-df-convert {\n",
              "      background-color: #3B4455;\n",
              "      fill: #D2E3FC;\n",
              "    }\n",
              "\n",
              "    [theme=dark] .colab-df-convert:hover {\n",
              "      background-color: #434B5C;\n",
              "      box-shadow: 0px 1px 3px 1px rgba(0, 0, 0, 0.15);\n",
              "      filter: drop-shadow(0px 1px 2px rgba(0, 0, 0, 0.3));\n",
              "      fill: #FFFFFF;\n",
              "    }\n",
              "  </style>\n",
              "\n",
              "      <script>\n",
              "        const buttonEl =\n",
              "          document.querySelector('#df-57082db9-f968-4919-b732-496277e546f7 button.colab-df-convert');\n",
              "        buttonEl.style.display =\n",
              "          google.colab.kernel.accessAllowed ? 'block' : 'none';\n",
              "\n",
              "        async function convertToInteractive(key) {\n",
              "          const element = document.querySelector('#df-57082db9-f968-4919-b732-496277e546f7');\n",
              "          const dataTable =\n",
              "            await google.colab.kernel.invokeFunction('convertToInteractive',\n",
              "                                                     [key], {});\n",
              "          if (!dataTable) return;\n",
              "\n",
              "          const docLinkHtml = 'Like what you see? Visit the ' +\n",
              "            '<a target=\"_blank\" href=https://colab.research.google.com/notebooks/data_table.ipynb>data table notebook</a>'\n",
              "            + ' to learn more about interactive tables.';\n",
              "          element.innerHTML = '';\n",
              "          dataTable['output_type'] = 'display_data';\n",
              "          await google.colab.output.renderOutput(dataTable, element);\n",
              "          const docLink = document.createElement('div');\n",
              "          docLink.innerHTML = docLinkHtml;\n",
              "          element.appendChild(docLink);\n",
              "        }\n",
              "      </script>\n",
              "    </div>\n",
              "  </div>\n",
              "  "
            ]
          },
          "metadata": {},
          "execution_count": 6
        }
      ]
    },
    {
      "cell_type": "markdown",
      "source": [
        " # use the _next_ valid observation to fill the missing data"
      ],
      "metadata": {
        "id": "QmeQfMpkR_Gq"
      }
    },
    {
      "cell_type": "code",
      "source": [
        "df"
      ],
      "metadata": {
        "colab": {
          "base_uri": "https://localhost:8080/",
          "height": 269
        },
        "id": "Mjv-Q2q7SIyb",
        "outputId": "97c6f247-c1a6-4793-8d14-f44047074d74"
      },
      "execution_count": 7,
      "outputs": [
        {
          "output_type": "execute_result",
          "data": {
            "text/plain": [
              "   numbers nums  colors  other_column\n",
              "0       23   23   green             0\n",
              "1       24   24     red             1\n",
              "2       18   18  yellow             0\n",
              "3       14   14  orange             2\n",
              "4       12  NaN  purple             1\n",
              "5       10  XYZ    blue             0\n",
              "6       35   35    pink             2"
            ],
            "text/html": [
              "\n",
              "  <div id=\"df-61307756-1274-41f3-ba94-b9942284d5c3\">\n",
              "    <div class=\"colab-df-container\">\n",
              "      <div>\n",
              "<style scoped>\n",
              "    .dataframe tbody tr th:only-of-type {\n",
              "        vertical-align: middle;\n",
              "    }\n",
              "\n",
              "    .dataframe tbody tr th {\n",
              "        vertical-align: top;\n",
              "    }\n",
              "\n",
              "    .dataframe thead th {\n",
              "        text-align: right;\n",
              "    }\n",
              "</style>\n",
              "<table border=\"1\" class=\"dataframe\">\n",
              "  <thead>\n",
              "    <tr style=\"text-align: right;\">\n",
              "      <th></th>\n",
              "      <th>numbers</th>\n",
              "      <th>nums</th>\n",
              "      <th>colors</th>\n",
              "      <th>other_column</th>\n",
              "    </tr>\n",
              "  </thead>\n",
              "  <tbody>\n",
              "    <tr>\n",
              "      <th>0</th>\n",
              "      <td>23</td>\n",
              "      <td>23</td>\n",
              "      <td>green</td>\n",
              "      <td>0</td>\n",
              "    </tr>\n",
              "    <tr>\n",
              "      <th>1</th>\n",
              "      <td>24</td>\n",
              "      <td>24</td>\n",
              "      <td>red</td>\n",
              "      <td>1</td>\n",
              "    </tr>\n",
              "    <tr>\n",
              "      <th>2</th>\n",
              "      <td>18</td>\n",
              "      <td>18</td>\n",
              "      <td>yellow</td>\n",
              "      <td>0</td>\n",
              "    </tr>\n",
              "    <tr>\n",
              "      <th>3</th>\n",
              "      <td>14</td>\n",
              "      <td>14</td>\n",
              "      <td>orange</td>\n",
              "      <td>2</td>\n",
              "    </tr>\n",
              "    <tr>\n",
              "      <th>4</th>\n",
              "      <td>12</td>\n",
              "      <td>NaN</td>\n",
              "      <td>purple</td>\n",
              "      <td>1</td>\n",
              "    </tr>\n",
              "    <tr>\n",
              "      <th>5</th>\n",
              "      <td>10</td>\n",
              "      <td>XYZ</td>\n",
              "      <td>blue</td>\n",
              "      <td>0</td>\n",
              "    </tr>\n",
              "    <tr>\n",
              "      <th>6</th>\n",
              "      <td>35</td>\n",
              "      <td>35</td>\n",
              "      <td>pink</td>\n",
              "      <td>2</td>\n",
              "    </tr>\n",
              "  </tbody>\n",
              "</table>\n",
              "</div>\n",
              "      <button class=\"colab-df-convert\" onclick=\"convertToInteractive('df-61307756-1274-41f3-ba94-b9942284d5c3')\"\n",
              "              title=\"Convert this dataframe to an interactive table.\"\n",
              "              style=\"display:none;\">\n",
              "        \n",
              "  <svg xmlns=\"http://www.w3.org/2000/svg\" height=\"24px\"viewBox=\"0 0 24 24\"\n",
              "       width=\"24px\">\n",
              "    <path d=\"M0 0h24v24H0V0z\" fill=\"none\"/>\n",
              "    <path d=\"M18.56 5.44l.94 2.06.94-2.06 2.06-.94-2.06-.94-.94-2.06-.94 2.06-2.06.94zm-11 1L8.5 8.5l.94-2.06 2.06-.94-2.06-.94L8.5 2.5l-.94 2.06-2.06.94zm10 10l.94 2.06.94-2.06 2.06-.94-2.06-.94-.94-2.06-.94 2.06-2.06.94z\"/><path d=\"M17.41 7.96l-1.37-1.37c-.4-.4-.92-.59-1.43-.59-.52 0-1.04.2-1.43.59L10.3 9.45l-7.72 7.72c-.78.78-.78 2.05 0 2.83L4 21.41c.39.39.9.59 1.41.59.51 0 1.02-.2 1.41-.59l7.78-7.78 2.81-2.81c.8-.78.8-2.07 0-2.86zM5.41 20L4 18.59l7.72-7.72 1.47 1.35L5.41 20z\"/>\n",
              "  </svg>\n",
              "      </button>\n",
              "      \n",
              "  <style>\n",
              "    .colab-df-container {\n",
              "      display:flex;\n",
              "      flex-wrap:wrap;\n",
              "      gap: 12px;\n",
              "    }\n",
              "\n",
              "    .colab-df-convert {\n",
              "      background-color: #E8F0FE;\n",
              "      border: none;\n",
              "      border-radius: 50%;\n",
              "      cursor: pointer;\n",
              "      display: none;\n",
              "      fill: #1967D2;\n",
              "      height: 32px;\n",
              "      padding: 0 0 0 0;\n",
              "      width: 32px;\n",
              "    }\n",
              "\n",
              "    .colab-df-convert:hover {\n",
              "      background-color: #E2EBFA;\n",
              "      box-shadow: 0px 1px 2px rgba(60, 64, 67, 0.3), 0px 1px 3px 1px rgba(60, 64, 67, 0.15);\n",
              "      fill: #174EA6;\n",
              "    }\n",
              "\n",
              "    [theme=dark] .colab-df-convert {\n",
              "      background-color: #3B4455;\n",
              "      fill: #D2E3FC;\n",
              "    }\n",
              "\n",
              "    [theme=dark] .colab-df-convert:hover {\n",
              "      background-color: #434B5C;\n",
              "      box-shadow: 0px 1px 3px 1px rgba(0, 0, 0, 0.15);\n",
              "      filter: drop-shadow(0px 1px 2px rgba(0, 0, 0, 0.3));\n",
              "      fill: #FFFFFF;\n",
              "    }\n",
              "  </style>\n",
              "\n",
              "      <script>\n",
              "        const buttonEl =\n",
              "          document.querySelector('#df-61307756-1274-41f3-ba94-b9942284d5c3 button.colab-df-convert');\n",
              "        buttonEl.style.display =\n",
              "          google.colab.kernel.accessAllowed ? 'block' : 'none';\n",
              "\n",
              "        async function convertToInteractive(key) {\n",
              "          const element = document.querySelector('#df-61307756-1274-41f3-ba94-b9942284d5c3');\n",
              "          const dataTable =\n",
              "            await google.colab.kernel.invokeFunction('convertToInteractive',\n",
              "                                                     [key], {});\n",
              "          if (!dataTable) return;\n",
              "\n",
              "          const docLinkHtml = 'Like what you see? Visit the ' +\n",
              "            '<a target=\"_blank\" href=https://colab.research.google.com/notebooks/data_table.ipynb>data table notebook</a>'\n",
              "            + ' to learn more about interactive tables.';\n",
              "          element.innerHTML = '';\n",
              "          dataTable['output_type'] = 'display_data';\n",
              "          await google.colab.output.renderOutput(dataTable, element);\n",
              "          const docLink = document.createElement('div');\n",
              "          docLink.innerHTML = docLinkHtml;\n",
              "          element.appendChild(docLink);\n",
              "        }\n",
              "      </script>\n",
              "    </div>\n",
              "  </div>\n",
              "  "
            ]
          },
          "metadata": {},
          "execution_count": 7
        }
      ]
    },
    {
      "cell_type": "code",
      "source": [
        "df.fillna(method=\"bfill\")"
      ],
      "metadata": {
        "colab": {
          "base_uri": "https://localhost:8080/",
          "height": 269
        },
        "id": "zTqAEQHAZuL4",
        "outputId": "9572eeab-86a5-4c62-8cad-d76183ac7cd7"
      },
      "execution_count": 8,
      "outputs": [
        {
          "output_type": "execute_result",
          "data": {
            "text/plain": [
              "   numbers nums  colors  other_column\n",
              "0       23   23   green             0\n",
              "1       24   24     red             1\n",
              "2       18   18  yellow             0\n",
              "3       14   14  orange             2\n",
              "4       12  XYZ  purple             1\n",
              "5       10  XYZ    blue             0\n",
              "6       35   35    pink             2"
            ],
            "text/html": [
              "\n",
              "  <div id=\"df-09f69b92-4ecf-4679-98a4-62b46bffad6c\">\n",
              "    <div class=\"colab-df-container\">\n",
              "      <div>\n",
              "<style scoped>\n",
              "    .dataframe tbody tr th:only-of-type {\n",
              "        vertical-align: middle;\n",
              "    }\n",
              "\n",
              "    .dataframe tbody tr th {\n",
              "        vertical-align: top;\n",
              "    }\n",
              "\n",
              "    .dataframe thead th {\n",
              "        text-align: right;\n",
              "    }\n",
              "</style>\n",
              "<table border=\"1\" class=\"dataframe\">\n",
              "  <thead>\n",
              "    <tr style=\"text-align: right;\">\n",
              "      <th></th>\n",
              "      <th>numbers</th>\n",
              "      <th>nums</th>\n",
              "      <th>colors</th>\n",
              "      <th>other_column</th>\n",
              "    </tr>\n",
              "  </thead>\n",
              "  <tbody>\n",
              "    <tr>\n",
              "      <th>0</th>\n",
              "      <td>23</td>\n",
              "      <td>23</td>\n",
              "      <td>green</td>\n",
              "      <td>0</td>\n",
              "    </tr>\n",
              "    <tr>\n",
              "      <th>1</th>\n",
              "      <td>24</td>\n",
              "      <td>24</td>\n",
              "      <td>red</td>\n",
              "      <td>1</td>\n",
              "    </tr>\n",
              "    <tr>\n",
              "      <th>2</th>\n",
              "      <td>18</td>\n",
              "      <td>18</td>\n",
              "      <td>yellow</td>\n",
              "      <td>0</td>\n",
              "    </tr>\n",
              "    <tr>\n",
              "      <th>3</th>\n",
              "      <td>14</td>\n",
              "      <td>14</td>\n",
              "      <td>orange</td>\n",
              "      <td>2</td>\n",
              "    </tr>\n",
              "    <tr>\n",
              "      <th>4</th>\n",
              "      <td>12</td>\n",
              "      <td>XYZ</td>\n",
              "      <td>purple</td>\n",
              "      <td>1</td>\n",
              "    </tr>\n",
              "    <tr>\n",
              "      <th>5</th>\n",
              "      <td>10</td>\n",
              "      <td>XYZ</td>\n",
              "      <td>blue</td>\n",
              "      <td>0</td>\n",
              "    </tr>\n",
              "    <tr>\n",
              "      <th>6</th>\n",
              "      <td>35</td>\n",
              "      <td>35</td>\n",
              "      <td>pink</td>\n",
              "      <td>2</td>\n",
              "    </tr>\n",
              "  </tbody>\n",
              "</table>\n",
              "</div>\n",
              "      <button class=\"colab-df-convert\" onclick=\"convertToInteractive('df-09f69b92-4ecf-4679-98a4-62b46bffad6c')\"\n",
              "              title=\"Convert this dataframe to an interactive table.\"\n",
              "              style=\"display:none;\">\n",
              "        \n",
              "  <svg xmlns=\"http://www.w3.org/2000/svg\" height=\"24px\"viewBox=\"0 0 24 24\"\n",
              "       width=\"24px\">\n",
              "    <path d=\"M0 0h24v24H0V0z\" fill=\"none\"/>\n",
              "    <path d=\"M18.56 5.44l.94 2.06.94-2.06 2.06-.94-2.06-.94-.94-2.06-.94 2.06-2.06.94zm-11 1L8.5 8.5l.94-2.06 2.06-.94-2.06-.94L8.5 2.5l-.94 2.06-2.06.94zm10 10l.94 2.06.94-2.06 2.06-.94-2.06-.94-.94-2.06-.94 2.06-2.06.94z\"/><path d=\"M17.41 7.96l-1.37-1.37c-.4-.4-.92-.59-1.43-.59-.52 0-1.04.2-1.43.59L10.3 9.45l-7.72 7.72c-.78.78-.78 2.05 0 2.83L4 21.41c.39.39.9.59 1.41.59.51 0 1.02-.2 1.41-.59l7.78-7.78 2.81-2.81c.8-.78.8-2.07 0-2.86zM5.41 20L4 18.59l7.72-7.72 1.47 1.35L5.41 20z\"/>\n",
              "  </svg>\n",
              "      </button>\n",
              "      \n",
              "  <style>\n",
              "    .colab-df-container {\n",
              "      display:flex;\n",
              "      flex-wrap:wrap;\n",
              "      gap: 12px;\n",
              "    }\n",
              "\n",
              "    .colab-df-convert {\n",
              "      background-color: #E8F0FE;\n",
              "      border: none;\n",
              "      border-radius: 50%;\n",
              "      cursor: pointer;\n",
              "      display: none;\n",
              "      fill: #1967D2;\n",
              "      height: 32px;\n",
              "      padding: 0 0 0 0;\n",
              "      width: 32px;\n",
              "    }\n",
              "\n",
              "    .colab-df-convert:hover {\n",
              "      background-color: #E2EBFA;\n",
              "      box-shadow: 0px 1px 2px rgba(60, 64, 67, 0.3), 0px 1px 3px 1px rgba(60, 64, 67, 0.15);\n",
              "      fill: #174EA6;\n",
              "    }\n",
              "\n",
              "    [theme=dark] .colab-df-convert {\n",
              "      background-color: #3B4455;\n",
              "      fill: #D2E3FC;\n",
              "    }\n",
              "\n",
              "    [theme=dark] .colab-df-convert:hover {\n",
              "      background-color: #434B5C;\n",
              "      box-shadow: 0px 1px 3px 1px rgba(0, 0, 0, 0.15);\n",
              "      filter: drop-shadow(0px 1px 2px rgba(0, 0, 0, 0.3));\n",
              "      fill: #FFFFFF;\n",
              "    }\n",
              "  </style>\n",
              "\n",
              "      <script>\n",
              "        const buttonEl =\n",
              "          document.querySelector('#df-09f69b92-4ecf-4679-98a4-62b46bffad6c button.colab-df-convert');\n",
              "        buttonEl.style.display =\n",
              "          google.colab.kernel.accessAllowed ? 'block' : 'none';\n",
              "\n",
              "        async function convertToInteractive(key) {\n",
              "          const element = document.querySelector('#df-09f69b92-4ecf-4679-98a4-62b46bffad6c');\n",
              "          const dataTable =\n",
              "            await google.colab.kernel.invokeFunction('convertToInteractive',\n",
              "                                                     [key], {});\n",
              "          if (!dataTable) return;\n",
              "\n",
              "          const docLinkHtml = 'Like what you see? Visit the ' +\n",
              "            '<a target=\"_blank\" href=https://colab.research.google.com/notebooks/data_table.ipynb>data table notebook</a>'\n",
              "            + ' to learn more about interactive tables.';\n",
              "          element.innerHTML = '';\n",
              "          dataTable['output_type'] = 'display_data';\n",
              "          await google.colab.output.renderOutput(dataTable, element);\n",
              "          const docLink = document.createElement('div');\n",
              "          docLink.innerHTML = docLinkHtml;\n",
              "          element.appendChild(docLink);\n",
              "        }\n",
              "      </script>\n",
              "    </div>\n",
              "  </div>\n",
              "  "
            ]
          },
          "metadata": {},
          "execution_count": 8
        }
      ]
    },
    {
      "cell_type": "markdown",
      "source": [
        " # use the _previous_ valid observation to fill missing data"
      ],
      "metadata": {
        "id": "5PsT7oQaUFFv"
      }
    },
    {
      "cell_type": "code",
      "source": [
        "import pandas as pd\n",
        "import numpy as np\n",
        "df = pd.DataFrame({\"numbers\": [\"#23\", \"#24\",\"#18\",\"#14\",\"#12\", \"#10\", \"#35\"],\n",
        "\"nums\": [\"23\",\"24\",\"18\",\"14\", np.nan,\"XYZ\",\"35\"],\n",
        "\"colors\": [\"green\", \"red\", \"yellow\",\"orange\",\"purple\",\"blue\", \"pink\"],\n",
        "\"other_column\": [0, 1, 0, 2, 1, 0, 2]})\n",
        "df['numbers'] = df['numbers'].str.replace('#','0')\n",
        "df[\"numbers\"]=pd.to_numeric(df[\"numbers\"])\n",
        "print(df.dtypes)\n",
        "print(df)"
      ],
      "metadata": {
        "colab": {
          "base_uri": "https://localhost:8080/",
          "height": 0
        },
        "id": "rtLRivf_Z_WR",
        "outputId": "95d8ba61-c10e-437d-96ae-edaf1cc7c616"
      },
      "execution_count": 9,
      "outputs": [
        {
          "output_type": "stream",
          "name": "stdout",
          "text": [
            "numbers          int64\n",
            "nums            object\n",
            "colors          object\n",
            "other_column     int64\n",
            "dtype: object\n",
            "   numbers nums  colors  other_column\n",
            "0       23   23   green             0\n",
            "1       24   24     red             1\n",
            "2       18   18  yellow             0\n",
            "3       14   14  orange             2\n",
            "4       12  NaN  purple             1\n",
            "5       10  XYZ    blue             0\n",
            "6       35   35    pink             2\n"
          ]
        }
      ]
    },
    {
      "cell_type": "code",
      "source": [
        "df.fillna(method=\"ffill\")"
      ],
      "metadata": {
        "colab": {
          "base_uri": "https://localhost:8080/",
          "height": 269
        },
        "id": "Z3pL47PGZ7QT",
        "outputId": "675caa31-0a58-4ea9-e3d0-44eda7533c5b"
      },
      "execution_count": 10,
      "outputs": [
        {
          "output_type": "execute_result",
          "data": {
            "text/plain": [
              "   numbers nums  colors  other_column\n",
              "0       23   23   green             0\n",
              "1       24   24     red             1\n",
              "2       18   18  yellow             0\n",
              "3       14   14  orange             2\n",
              "4       12   14  purple             1\n",
              "5       10  XYZ    blue             0\n",
              "6       35   35    pink             2"
            ],
            "text/html": [
              "\n",
              "  <div id=\"df-e30a8e0b-ef2d-41db-9eeb-dc09f4d81239\">\n",
              "    <div class=\"colab-df-container\">\n",
              "      <div>\n",
              "<style scoped>\n",
              "    .dataframe tbody tr th:only-of-type {\n",
              "        vertical-align: middle;\n",
              "    }\n",
              "\n",
              "    .dataframe tbody tr th {\n",
              "        vertical-align: top;\n",
              "    }\n",
              "\n",
              "    .dataframe thead th {\n",
              "        text-align: right;\n",
              "    }\n",
              "</style>\n",
              "<table border=\"1\" class=\"dataframe\">\n",
              "  <thead>\n",
              "    <tr style=\"text-align: right;\">\n",
              "      <th></th>\n",
              "      <th>numbers</th>\n",
              "      <th>nums</th>\n",
              "      <th>colors</th>\n",
              "      <th>other_column</th>\n",
              "    </tr>\n",
              "  </thead>\n",
              "  <tbody>\n",
              "    <tr>\n",
              "      <th>0</th>\n",
              "      <td>23</td>\n",
              "      <td>23</td>\n",
              "      <td>green</td>\n",
              "      <td>0</td>\n",
              "    </tr>\n",
              "    <tr>\n",
              "      <th>1</th>\n",
              "      <td>24</td>\n",
              "      <td>24</td>\n",
              "      <td>red</td>\n",
              "      <td>1</td>\n",
              "    </tr>\n",
              "    <tr>\n",
              "      <th>2</th>\n",
              "      <td>18</td>\n",
              "      <td>18</td>\n",
              "      <td>yellow</td>\n",
              "      <td>0</td>\n",
              "    </tr>\n",
              "    <tr>\n",
              "      <th>3</th>\n",
              "      <td>14</td>\n",
              "      <td>14</td>\n",
              "      <td>orange</td>\n",
              "      <td>2</td>\n",
              "    </tr>\n",
              "    <tr>\n",
              "      <th>4</th>\n",
              "      <td>12</td>\n",
              "      <td>14</td>\n",
              "      <td>purple</td>\n",
              "      <td>1</td>\n",
              "    </tr>\n",
              "    <tr>\n",
              "      <th>5</th>\n",
              "      <td>10</td>\n",
              "      <td>XYZ</td>\n",
              "      <td>blue</td>\n",
              "      <td>0</td>\n",
              "    </tr>\n",
              "    <tr>\n",
              "      <th>6</th>\n",
              "      <td>35</td>\n",
              "      <td>35</td>\n",
              "      <td>pink</td>\n",
              "      <td>2</td>\n",
              "    </tr>\n",
              "  </tbody>\n",
              "</table>\n",
              "</div>\n",
              "      <button class=\"colab-df-convert\" onclick=\"convertToInteractive('df-e30a8e0b-ef2d-41db-9eeb-dc09f4d81239')\"\n",
              "              title=\"Convert this dataframe to an interactive table.\"\n",
              "              style=\"display:none;\">\n",
              "        \n",
              "  <svg xmlns=\"http://www.w3.org/2000/svg\" height=\"24px\"viewBox=\"0 0 24 24\"\n",
              "       width=\"24px\">\n",
              "    <path d=\"M0 0h24v24H0V0z\" fill=\"none\"/>\n",
              "    <path d=\"M18.56 5.44l.94 2.06.94-2.06 2.06-.94-2.06-.94-.94-2.06-.94 2.06-2.06.94zm-11 1L8.5 8.5l.94-2.06 2.06-.94-2.06-.94L8.5 2.5l-.94 2.06-2.06.94zm10 10l.94 2.06.94-2.06 2.06-.94-2.06-.94-.94-2.06-.94 2.06-2.06.94z\"/><path d=\"M17.41 7.96l-1.37-1.37c-.4-.4-.92-.59-1.43-.59-.52 0-1.04.2-1.43.59L10.3 9.45l-7.72 7.72c-.78.78-.78 2.05 0 2.83L4 21.41c.39.39.9.59 1.41.59.51 0 1.02-.2 1.41-.59l7.78-7.78 2.81-2.81c.8-.78.8-2.07 0-2.86zM5.41 20L4 18.59l7.72-7.72 1.47 1.35L5.41 20z\"/>\n",
              "  </svg>\n",
              "      </button>\n",
              "      \n",
              "  <style>\n",
              "    .colab-df-container {\n",
              "      display:flex;\n",
              "      flex-wrap:wrap;\n",
              "      gap: 12px;\n",
              "    }\n",
              "\n",
              "    .colab-df-convert {\n",
              "      background-color: #E8F0FE;\n",
              "      border: none;\n",
              "      border-radius: 50%;\n",
              "      cursor: pointer;\n",
              "      display: none;\n",
              "      fill: #1967D2;\n",
              "      height: 32px;\n",
              "      padding: 0 0 0 0;\n",
              "      width: 32px;\n",
              "    }\n",
              "\n",
              "    .colab-df-convert:hover {\n",
              "      background-color: #E2EBFA;\n",
              "      box-shadow: 0px 1px 2px rgba(60, 64, 67, 0.3), 0px 1px 3px 1px rgba(60, 64, 67, 0.15);\n",
              "      fill: #174EA6;\n",
              "    }\n",
              "\n",
              "    [theme=dark] .colab-df-convert {\n",
              "      background-color: #3B4455;\n",
              "      fill: #D2E3FC;\n",
              "    }\n",
              "\n",
              "    [theme=dark] .colab-df-convert:hover {\n",
              "      background-color: #434B5C;\n",
              "      box-shadow: 0px 1px 3px 1px rgba(0, 0, 0, 0.15);\n",
              "      filter: drop-shadow(0px 1px 2px rgba(0, 0, 0, 0.3));\n",
              "      fill: #FFFFFF;\n",
              "    }\n",
              "  </style>\n",
              "\n",
              "      <script>\n",
              "        const buttonEl =\n",
              "          document.querySelector('#df-e30a8e0b-ef2d-41db-9eeb-dc09f4d81239 button.colab-df-convert');\n",
              "        buttonEl.style.display =\n",
              "          google.colab.kernel.accessAllowed ? 'block' : 'none';\n",
              "\n",
              "        async function convertToInteractive(key) {\n",
              "          const element = document.querySelector('#df-e30a8e0b-ef2d-41db-9eeb-dc09f4d81239');\n",
              "          const dataTable =\n",
              "            await google.colab.kernel.invokeFunction('convertToInteractive',\n",
              "                                                     [key], {});\n",
              "          if (!dataTable) return;\n",
              "\n",
              "          const docLinkHtml = 'Like what you see? Visit the ' +\n",
              "            '<a target=\"_blank\" href=https://colab.research.google.com/notebooks/data_table.ipynb>data table notebook</a>'\n",
              "            + ' to learn more about interactive tables.';\n",
              "          element.innerHTML = '';\n",
              "          dataTable['output_type'] = 'display_data';\n",
              "          await google.colab.output.renderOutput(dataTable, element);\n",
              "          const docLink = document.createElement('div');\n",
              "          docLink.innerHTML = docLinkHtml;\n",
              "          element.appendChild(docLink);\n",
              "        }\n",
              "      </script>\n",
              "    </div>\n",
              "  </div>\n",
              "  "
            ]
          },
          "metadata": {},
          "execution_count": 10
        }
      ]
    },
    {
      "cell_type": "markdown",
      "source": [
        "4. Make a new column called colors_upper that contains the elements\n",
        "of colors with all uppercase letters."
      ],
      "metadata": {
        "id": "WwmbY1sCYuU9"
      }
    },
    {
      "cell_type": "code",
      "source": [
        "colors_upper=[\"red\",\"blue\",\"pink\",\"yellow\",\"orange\",\"purple\",\"green\"]\n",
        "df['colors_upper']=colors_upper\n",
        "df['colors_upper'] = df['colors_upper'].str.upper()\n",
        "print(df)"
      ],
      "metadata": {
        "colab": {
          "base_uri": "https://localhost:8080/",
          "height": 0
        },
        "id": "mAAsAw_Qbc3R",
        "outputId": "81d0408e-f958-4553-eb12-fd4d4172131d"
      },
      "execution_count": 11,
      "outputs": [
        {
          "output_type": "stream",
          "name": "stdout",
          "text": [
            "   numbers nums  colors  other_column colors_upper\n",
            "0       23   23   green             0          RED\n",
            "1       24   24     red             1         BLUE\n",
            "2       18   18  yellow             0         PINK\n",
            "3       14   14  orange             2       YELLOW\n",
            "4       12  NaN  purple             1       ORANGE\n",
            "5       10  XYZ    blue             0       PURPLE\n",
            "6       35   35    pink             2        GREEN\n"
          ]
        }
      ]
    },
    {
      "cell_type": "markdown",
      "source": [
        "5. Convert the column &quot;nums&quot; to a numeric type using pd.to_numeric and save it\n",
        "to the DataFrame as &quot;nums_tonumeric&quot;."
      ],
      "metadata": {
        "id": "fp9lKke4f66t"
      }
    },
    {
      "cell_type": "code",
      "source": [
        "df[\"nums\"]=pd.to_numeric(df[\"nums\"],errors='ignore')\n",
        "print(df.dtypes)\n",
        "df.to_csv('nums_tonumeric.csv')"
      ],
      "metadata": {
        "colab": {
          "base_uri": "https://localhost:8080/",
          "height": 0
        },
        "id": "WW8EUMnpgFiS",
        "outputId": "ec6f40cc-f889-4996-bcdb-b57fd92d1833"
      },
      "execution_count": 12,
      "outputs": [
        {
          "output_type": "stream",
          "name": "stdout",
          "text": [
            "numbers          int64\n",
            "nums            object\n",
            "colors          object\n",
            "other_column     int64\n",
            "colors_upper    object\n",
            "dtype: object\n"
          ]
        }
      ]
    },
    {
      "cell_type": "markdown",
      "source": [
        "The following examples show pandas DataFrame:\n",
        "\n",
        "df = pd.DataFrame({&#39;points&#39;: [4, 4, 7, 8, 12, 13, 15, 18, 22, 23, 23, 25],\n",
        "\n",
        "&#39;assists&#39;: [2, 5, 4, 7, 7, 8, 5, 4, 5, 11, 13, 8],\n",
        "\n",
        "&#39;rebounds&#39;: [7, 7, 4, 6, 3, 8, 9, 9, 12, 11, 8, 9]})"
      ],
      "metadata": {
        "id": "lyMsCLFxizKf"
      }
    },
    {
      "cell_type": "code",
      "source": [
        "df = pd.DataFrame({'points': [4, 4, 7, 8, 12, 13, 15, 18, 22, 23, 23, 25],\n",
        "\n",
        "'assists': [2, 5, 4, 7, 7, 8, 5, 4, 5, 11, 13, 8],\n",
        "\n",
        "'rebounds': [7, 7, 4, 6, 3, 8, 9, 9, 12, 11, 8, 9]})\n",
        "print(df)"
      ],
      "metadata": {
        "colab": {
          "base_uri": "https://localhost:8080/",
          "height": 0
        },
        "id": "HjgNvfstjFte",
        "outputId": "ae3e932a-a5ff-44b2-c501-045a39232ad0"
      },
      "execution_count": 13,
      "outputs": [
        {
          "output_type": "stream",
          "name": "stdout",
          "text": [
            "    points  assists  rebounds\n",
            "0        4        2         7\n",
            "1        4        5         7\n",
            "2        7        4         4\n",
            "3        8        7         6\n",
            "4       12        7         3\n",
            "5       13        8         8\n",
            "6       15        5         9\n",
            "7       18        4         9\n",
            "8       22        5        12\n",
            "9       23       11        11\n",
            "10      23       13         8\n",
            "11      25        8         9\n"
          ]
        }
      ]
    },
    {
      "cell_type": "markdown",
      "source": [
        "1.perform data binning on the points variable using\n",
        "the  qcut()  function with specific break marks, and also use\n",
        "cut() function to binning."
      ],
      "metadata": {
        "id": "4R_2KnGqjSsx"
      }
    },
    {
      "cell_type": "code",
      "source": [
        "pd.Series(pd.qcut(range(100), 4)).value_counts()"
      ],
      "metadata": {
        "colab": {
          "base_uri": "https://localhost:8080/",
          "height": 0
        },
        "id": "WaZEV9eJjUmX",
        "outputId": "9e5b3267-4de3-42a6-e6f2-cf22e97346c0"
      },
      "execution_count": 14,
      "outputs": [
        {
          "output_type": "execute_result",
          "data": {
            "text/plain": [
              "(-0.001, 24.75]    25\n",
              "(24.75, 49.5]      25\n",
              "(49.5, 74.25]      25\n",
              "(74.25, 99.0]      25\n",
              "dtype: int64"
            ]
          },
          "metadata": {},
          "execution_count": 14
        }
      ]
    },
    {
      "cell_type": "code",
      "source": [
        "df['bins'] = pd.cut(x=df['points'], bins=[1, 5, 10, 15,20, 25])\n",
        "print(df)\n",
        "print(df['bins'].unique())"
      ],
      "metadata": {
        "id": "gv1ITB-Xkp4E",
        "colab": {
          "base_uri": "https://localhost:8080/",
          "height": 0
        },
        "outputId": "0c26c0e9-a04d-4eb9-a760-3912fb8c5baf"
      },
      "execution_count": 15,
      "outputs": [
        {
          "output_type": "stream",
          "name": "stdout",
          "text": [
            "    points  assists  rebounds      bins\n",
            "0        4        2         7    (1, 5]\n",
            "1        4        5         7    (1, 5]\n",
            "2        7        4         4   (5, 10]\n",
            "3        8        7         6   (5, 10]\n",
            "4       12        7         3  (10, 15]\n",
            "5       13        8         8  (10, 15]\n",
            "6       15        5         9  (10, 15]\n",
            "7       18        4         9  (15, 20]\n",
            "8       22        5        12  (20, 25]\n",
            "9       23       11        11  (20, 25]\n",
            "10      23       13         8  (20, 25]\n",
            "11      25        8         9  (20, 25]\n",
            "[(1, 5], (5, 10], (10, 15], (15, 20], (20, 25]]\n",
            "Categories (5, interval[int64, right]): [(1, 5] < (5, 10] < (10, 15] < (15, 20] < (20, 25]]\n"
          ]
        }
      ]
    },
    {
      "cell_type": "markdown",
      "source": [
        "2. Perform Data Binning with Labels on above data\n",
        "Frame(with 5 labels)"
      ],
      "metadata": {
        "id": "4zET3KXalvOX"
      }
    },
    {
      "cell_type": "code",
      "source": [
        "df_new = df.rename(columns={'points': 'Col_1'})\n",
        "print(df_new)"
      ],
      "metadata": {
        "id": "oXD2W5sfl4Df",
        "colab": {
          "base_uri": "https://localhost:8080/",
          "height": 0
        },
        "outputId": "3752b29e-2aa0-427f-8761-5c5e532be04d"
      },
      "execution_count": 16,
      "outputs": [
        {
          "output_type": "stream",
          "name": "stdout",
          "text": [
            "    Col_1  assists  rebounds      bins\n",
            "0       4        2         7    (1, 5]\n",
            "1       4        5         7    (1, 5]\n",
            "2       7        4         4   (5, 10]\n",
            "3       8        7         6   (5, 10]\n",
            "4      12        7         3  (10, 15]\n",
            "5      13        8         8  (10, 15]\n",
            "6      15        5         9  (10, 15]\n",
            "7      18        4         9  (15, 20]\n",
            "8      22        5        12  (20, 25]\n",
            "9      23       11        11  (20, 25]\n",
            "10     23       13         8  (20, 25]\n",
            "11     25        8         9  (20, 25]\n"
          ]
        }
      ]
    },
    {
      "cell_type": "code",
      "source": [
        "print(df.rename(columns={'points': 'Col_2', 'rebounds': 'Col_3'}))"
      ],
      "metadata": {
        "colab": {
          "base_uri": "https://localhost:8080/",
          "height": 0
        },
        "id": "bRE9yJoluoYt",
        "outputId": "2d2d70b9-dd4b-434d-b864-b6e3710397d0"
      },
      "execution_count": 17,
      "outputs": [
        {
          "output_type": "stream",
          "name": "stdout",
          "text": [
            "    Col_2  assists  Col_3      bins\n",
            "0       4        2      7    (1, 5]\n",
            "1       4        5      7    (1, 5]\n",
            "2       7        4      4   (5, 10]\n",
            "3       8        7      6   (5, 10]\n",
            "4      12        7      3  (10, 15]\n",
            "5      13        8      8  (10, 15]\n",
            "6      15        5      9  (10, 15]\n",
            "7      18        4      9  (15, 20]\n",
            "8      22        5     12  (20, 25]\n",
            "9      23       11     11  (20, 25]\n",
            "10     23       13      8  (20, 25]\n",
            "11     25        8      9  (20, 25]\n"
          ]
        }
      ]
    },
    {
      "cell_type": "code",
      "source": [
        "print(df.rename(columns=str.upper))"
      ],
      "metadata": {
        "colab": {
          "base_uri": "https://localhost:8080/",
          "height": 0
        },
        "id": "o6JyscWivAgo",
        "outputId": "c6c9d717-66fc-4c85-ad8d-77a21d37ba3b"
      },
      "execution_count": 18,
      "outputs": [
        {
          "output_type": "stream",
          "name": "stdout",
          "text": [
            "    POINTS  ASSISTS  REBOUNDS      BINS\n",
            "0        4        2         7    (1, 5]\n",
            "1        4        5         7    (1, 5]\n",
            "2        7        4         4   (5, 10]\n",
            "3        8        7         6   (5, 10]\n",
            "4       12        7         3  (10, 15]\n",
            "5       13        8         8  (10, 15]\n",
            "6       15        5         9  (10, 15]\n",
            "7       18        4         9  (15, 20]\n",
            "8       22        5        12  (20, 25]\n",
            "9       23       11        11  (20, 25]\n",
            "10      23       13         8  (20, 25]\n",
            "11      25        8         9  (20, 25]\n"
          ]
        }
      ]
    },
    {
      "cell_type": "code",
      "source": [
        "print(df.rename(columns=lambda s: s*2))"
      ],
      "metadata": {
        "colab": {
          "base_uri": "https://localhost:8080/",
          "height": 0
        },
        "id": "_sfKBmgKvndk",
        "outputId": "42ddd3d4-198f-447a-ef17-15ae46ed9052"
      },
      "execution_count": 19,
      "outputs": [
        {
          "output_type": "stream",
          "name": "stdout",
          "text": [
            "    pointspoints  assistsassists  reboundsrebounds  binsbins\n",
            "0              4               2                 7    (1, 5]\n",
            "1              4               5                 7    (1, 5]\n",
            "2              7               4                 4   (5, 10]\n",
            "3              8               7                 6   (5, 10]\n",
            "4             12               7                 3  (10, 15]\n",
            "5             13               8                 8  (10, 15]\n",
            "6             15               5                 9  (10, 15]\n",
            "7             18               4                 9  (15, 20]\n",
            "8             22               5                12  (20, 25]\n",
            "9             23              11                11  (20, 25]\n",
            "10            23              13                 8  (20, 25]\n",
            "11            25               8                 9  (20, 25]\n"
          ]
        }
      ]
    },
    {
      "cell_type": "code",
      "source": [
        "print(df.add_prefix('X_'))"
      ],
      "metadata": {
        "colab": {
          "base_uri": "https://localhost:8080/",
          "height": 0
        },
        "id": "AuPZ3fpHv9wy",
        "outputId": "ac6ab576-619f-4831-d33a-0258911aa3c0"
      },
      "execution_count": 20,
      "outputs": [
        {
          "output_type": "stream",
          "name": "stdout",
          "text": [
            "    X_points  X_assists  X_rebounds    X_bins\n",
            "0          4          2           7    (1, 5]\n",
            "1          4          5           7    (1, 5]\n",
            "2          7          4           4   (5, 10]\n",
            "3          8          7           6   (5, 10]\n",
            "4         12          7           3  (10, 15]\n",
            "5         13          8           8  (10, 15]\n",
            "6         15          5           9  (10, 15]\n",
            "7         18          4           9  (15, 20]\n",
            "8         22          5          12  (20, 25]\n",
            "9         23         11          11  (20, 25]\n",
            "10        23         13           8  (20, 25]\n",
            "11        25          8           9  (20, 25]\n"
          ]
        }
      ]
    },
    {
      "cell_type": "markdown",
      "source": [
        "3. using the CarDekho dataset, containing data about used cars listed on\n",
        "the platform.\n",
        "\n",
        "* Year’ is the year in which the car was purchased.\n",
        "* ‘Selling_Price’ is the price the owner wants to sell the car at.\n",
        "* ‘Present_Price’ is the current ex-showroom price of the car.\n",
        "* ‘Owner’ defines the number of owners the car has previously had, before\n",
        "this car was put up on the platform.\n",
        " *  How cut and qcut would handle an ‘imperfect’ dataset.\n",
        "[by specifying the number of bins directly\n",
        "let pandas do the work of calculating equal-sized bins\n",
        "use manually specify the bin edges as we desire. ]"
      ],
      "metadata": {
        "id": "Id534LiAwUUN"
      }
    },
    {
      "cell_type": "code",
      "source": [
        "import pandas as pd\n",
        "df= pd.read_csv('C:\\Users\\SUNEETHA\\Desktop\\e2 sem2\\DSP\\CAR DETAILS FROM CAR DEKHO.csv')\n",
        "pd.cut(f.year,bin=5,right=True).head()\n",
        "pd.qcut(f.year,q=5).head(8)"
      ],
      "metadata": {
        "id": "NROA8ziv_gxu"
      },
      "execution_count": null,
      "outputs": []
    }
  ]
}