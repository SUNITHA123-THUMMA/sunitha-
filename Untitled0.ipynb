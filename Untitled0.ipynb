{
  "nbformat": 4,
  "nbformat_minor": 0,
  "metadata": {
    "colab": {
      "name": "Untitled0.ipynb",
      "provenance": [],
      "collapsed_sections": [],
      "authorship_tag": "ABX9TyP9m+Z6HSPZd4gHnho3NkFG",
      "include_colab_link": true
    },
    "kernelspec": {
      "name": "python3",
      "display_name": "Python 3"
    },
    "language_info": {
      "name": "python"
    }
  },
  "cells": [
    {
      "cell_type": "markdown",
      "metadata": {
        "id": "view-in-github",
        "colab_type": "text"
      },
      "source": [
        "<a href=\"https://colab.research.google.com/github/SUNITHA123-THUMMA/sunitha-/blob/main/Untitled0.ipynb\" target=\"_parent\"><img src=\"https://colab.research.google.com/assets/colab-badge.svg\" alt=\"Open In Colab\"/></a>"
      ]
    },
    {
      "cell_type": "markdown",
      "source": [
        ""
      ],
      "metadata": {
        "id": "y0L7boUd3jKu"
      }
    },
    {
      "cell_type": "markdown",
      "source": [
        "                                                                                                                **WEEK-05**\n",
        "                                                                                 ID NO:N180091\n",
        "                                                                                 NAME:T.Sunitha\n",
        "                                                                                 date:30-06-2022                               "
      ],
      "metadata": {
        "id": "4Ipo_AS63mb6"
      }
    },
    {
      "cell_type": "markdown",
      "source": [
        "1. How to replace items that satisfy a condition without affecting the original array?\n",
        "replace all odd numbers in arr with -1 without changing arr\n",
        "Input:\n",
        "arr = np.array([0, 1, 2, 3, 4, 5, 6, 7, 8, 9])\n",
        "Desired Output:\n",
        "out\n",
        "#&gt; array([ 0, -1, 2, -1, 4, -1, 6, -1, 8, -1])\n",
        "arr\n",
        "#&gt; array([0, 1, 2, 3, 4, 5, 6, 7, 8, 9])\n"
      ],
      "metadata": {
        "id": "pM4fkqU54RCv"
      }
    },
    {
      "cell_type": "code",
      "source": [
        "import numpy as np \n",
        " \n",
        "a = np.array([ 0,1,  2,  3,  4,  5,  6,  7,  8,  9]) \n",
        "print(\"given array is\",a)\n",
        " \n",
        "odd_values = (a%2 == 1) \n",
        "a[odd_values] = -1  \n",
        "a[a%2 == 1] = -1\n",
        "print(\"expected array is\",a)\n"
      ],
      "metadata": {
        "colab": {
          "base_uri": "https://localhost:8080/",
          "height": 0
        },
        "id": "-awvLQR64ZCZ",
        "outputId": "dd6379c0-00e7-4509-83ed-b01267ad8760"
      },
      "execution_count": 11,
      "outputs": [
        {
          "output_type": "stream",
          "name": "stdout",
          "text": [
            "given array is [0 1 2 3 4 5 6 7 8 9]\n",
            "expected array is [ 0 -1  2 -1  4 -1  6 -1  8 -1]\n"
          ]
        }
      ]
    },
    {
      "cell_type": "markdown",
      "source": [
        "2. How to extract items that satisfy a given condition from 1D array?\n",
        "Extract all odd numbers from arr\n",
        "Input:\n",
        "arr = np.array([0, 1, 2, 3, 4, 5, 6, 7, 8, 9])\n",
        "Desired output:\n",
        "#&gt; array([1, 3, 5, 7, 9])"
      ],
      "metadata": {
        "id": "hcBdHgrc6Oo5"
      }
    },
    {
      "cell_type": "code",
      "source": [
        "a = np.array([ 0,1,  2,  3,  4,  5,  6,  7,  8,  9]) \n",
        "print(\"given array is\",a)\n",
        " \n",
        "odd_values= (a%2 == 1) \n",
        "print(\"odd numbers in the above array\",a[odd_values])"
      ],
      "metadata": {
        "colab": {
          "base_uri": "https://localhost:8080/",
          "height": 0
        },
        "id": "j7HrE4bs6bha",
        "outputId": "de9a40f6-0a09-4325-d1a3-7c63a60f1f06"
      },
      "execution_count": 15,
      "outputs": [
        {
          "output_type": "stream",
          "name": "stdout",
          "text": [
            "given array is [0 1 2 3 4 5 6 7 8 9]\n",
            "odd numbers in the above array [1 3 5 7 9]\n"
          ]
        }
      ]
    },
    {
      "cell_type": "markdown",
      "source": [
        "3. How to stack two arrays vertically and horizontally ?\n",
        "Stack arrays a and b vertically\n",
        "Input\n",
        "a = np.arange(10).reshape(2,-1)\n",
        "b = np.repeat(1, 10).reshape(2,-1)\n",
        "Desired Output:\n",
        "#&gt; array([[0, 1, 2, 3, 4],\n",
        "#&gt; [5, 6, 7, 8, 9],\n",
        "#&gt; [1, 1, 1, 1, 1],\n",
        "#&gt; [1, 1, 1, 1, 1]])\n",
        "#&gt; array([[0, 1, 2, 3, 4, 1, 1, 1, 1, 1],\n",
        "#&gt; [5, 6, 7, 8, 9, 1, 1, 1, 1, 1]])"
      ],
      "metadata": {
        "id": "hktrbVP_7MQn"
      }
    },
    {
      "cell_type": "code",
      "source": [
        "a = np.arange(10).reshape(2,-1)\n",
        "b = np.repeat(1, 10).reshape(2,-1)\n",
        "print(\"array\",a)\n",
        "print(b)\n",
        "\n",
        "\n",
        "a = np.arange(10).reshape(2,-1)\n",
        "\n",
        "b = np.repeat(1, 10).reshape(2,-1)\n",
        "c=np.hstack([a, b])\n",
        "print(\"array\",c)\n"
      ],
      "metadata": {
        "colab": {
          "base_uri": "https://localhost:8080/",
          "height": 0
        },
        "id": "quy9wG5r7eKY",
        "outputId": "b6d3c184-a95a-480b-b938-aca0ea87f6c8"
      },
      "execution_count": 29,
      "outputs": [
        {
          "output_type": "stream",
          "name": "stdout",
          "text": [
            "array [[0 1 2 3 4]\n",
            " [5 6 7 8 9]]\n",
            "[[1 1 1 1 1]\n",
            " [1 1 1 1 1]]\n",
            "array [[0 1 2 3 4 1 1 1 1 1]\n",
            " [5 6 7 8 9 1 1 1 1 1]]\n"
          ]
        }
      ]
    },
    {
      "cell_type": "markdown",
      "source": [
        "4. How to extract all numbers between a given range from a numpy array?\n",
        "Get all items between 5 and 10 from a.\n",
        "Input:\n",
        "a = np.array([2, 6, 1, 9, 10, 3, 27])\n",
        "\n",
        "Desired Output:\n",
        "(array([6, 9, 10]),)"
      ],
      "metadata": {
        "id": "hudTbhYn-s4e"
      }
    },
    {
      "cell_type": "code",
      "source": [
        "a = np.array([2, 6, 1, 9, 10, 3, 27])\n",
        "a1=a[(a >= 5) & (a <= 10)]\n",
        "a1"
      ],
      "metadata": {
        "colab": {
          "base_uri": "https://localhost:8080/",
          "height": 0
        },
        "id": "6jxUaTcv_BmO",
        "outputId": "b5b0f70c-0368-4dde-9ff3-f7fb0ef7f5e7"
      },
      "execution_count": 38,
      "outputs": [
        {
          "output_type": "execute_result",
          "data": {
            "text/plain": [
              "array([ 6,  9, 10])"
            ]
          },
          "metadata": {},
          "execution_count": 38
        }
      ]
    },
    {
      "cell_type": "markdown",
      "source": [
        "5. How to create an empty and a full NumPy array?"
      ],
      "metadata": {
        "id": "1fuETdLLCDZI"
      }
    },
    {
      "cell_type": "code",
      "source": [
        "a = np.empty([3, 4])\n",
        "print(\"\\n Empty Array\")\n",
        "print(a)\n",
        "\n",
        "  \n",
        "b= np.full([3, 4], 5, dtype=int)\n",
        "print(\" Full Array\")\n",
        "print(b)\n"
      ],
      "metadata": {
        "colab": {
          "base_uri": "https://localhost:8080/",
          "height": 0
        },
        "id": "JSQlOhD1CHh_",
        "outputId": "b9e53384-33fa-4185-ace7-f6aa099edd63"
      },
      "execution_count": 52,
      "outputs": [
        {
          "output_type": "stream",
          "name": "stdout",
          "text": [
            "\n",
            " Empty Array\n",
            "[[2.5e-323 2.5e-323 2.5e-323 2.5e-323]\n",
            " [2.5e-323 2.5e-323 2.5e-323 2.5e-323]\n",
            " [2.5e-323 2.5e-323 2.5e-323 2.5e-323]]\n",
            " Full Array\n",
            "[[5 5 5 5]\n",
            " [5 5 5 5]\n",
            " [5 5 5 5]]\n"
          ]
        }
      ]
    },
    {
      "cell_type": "markdown",
      "source": [
        "6. Create a Numpy array filled with all zeros."
      ],
      "metadata": {
        "id": "55PE-oKBEfav"
      }
    },
    {
      "cell_type": "code",
      "source": [
        "a = np.zeros([3, 3], dtype = int) \n",
        "print(\"\\nMatrix a : \\n\", a) "
      ],
      "metadata": {
        "colab": {
          "base_uri": "https://localhost:8080/",
          "height": 0
        },
        "id": "hKDcn8gWEkDM",
        "outputId": "602e519c-510d-4cfa-ce23-6d5b4de9a3d7"
      },
      "execution_count": 54,
      "outputs": [
        {
          "output_type": "stream",
          "name": "stdout",
          "text": [
            "\n",
            "Matrix a : \n",
            " [[0 0 0]\n",
            " [0 0 0]\n",
            " [0 0 0]]\n"
          ]
        }
      ]
    },
    {
      "cell_type": "markdown",
      "source": [
        "7. Create a Numpy array filled with all ones."
      ],
      "metadata": {
        "id": "JK4VdR2EE3uq"
      }
    },
    {
      "cell_type": "code",
      "source": [
        "a = np.full([3, 3],1, dtype = int) \n",
        "print(\"\\nMatrix a : \\n\", a) "
      ],
      "metadata": {
        "colab": {
          "base_uri": "https://localhost:8080/",
          "height": 0
        },
        "id": "_I6ksGMbE9Wt",
        "outputId": "e7f0cede-5676-4d5a-c576-96f0d179b368"
      },
      "execution_count": 55,
      "outputs": [
        {
          "output_type": "stream",
          "name": "stdout",
          "text": [
            "\n",
            "Matrix a : \n",
            " [[1 1 1]\n",
            " [1 1 1]\n",
            " [1 1 1]]\n"
          ]
        }
      ]
    },
    {
      "cell_type": "markdown",
      "source": [
        "8. Check whether a Numpy array contains a specified row."
      ],
      "metadata": {
        "id": "CGX0wLCJFHS_"
      }
    },
    {
      "cell_type": "code",
      "source": [
        "arr = np.array([[1, 2, 3, 4, 5],\n",
        "                   [6, 7, 8, 9, 10],\n",
        "                   [11, 12, 13, 14, 15],\n",
        "                   [16, 17, 18, 19, 20]\n",
        "                   ])\n",
        "print(arr)\n",
        "print([1, 2, 3, 4, 5] in arr.tolist())\n",
        "print([16, 17, 20, 19, 18] in arr.tolist())\n",
        "print([3, 2, 5, -4, 5] in arr.tolist())\n",
        "print([11, 12, 13, 14, 15] in arr.tolist())"
      ],
      "metadata": {
        "colab": {
          "base_uri": "https://localhost:8080/",
          "height": 0
        },
        "id": "d199qc37FMa2",
        "outputId": "0cb53482-fcad-4dd1-b43c-04bcba171a79"
      },
      "execution_count": 59,
      "outputs": [
        {
          "output_type": "stream",
          "name": "stdout",
          "text": [
            "[[ 1  2  3  4  5]\n",
            " [ 6  7  8  9 10]\n",
            " [11 12 13 14 15]\n",
            " [16 17 18 19 20]]\n",
            "True\n",
            "False\n",
            "False\n",
            "True\n"
          ]
        }
      ]
    },
    {
      "cell_type": "markdown",
      "source": [
        "9. How to Remove rows in Numpy array that contains non-numeric values?"
      ],
      "metadata": {
        "id": "8rVa4p-AGYUr"
      }
    },
    {
      "cell_type": "code",
      "source": [
        "n_arr = np.array([[10.5, 22.5, 3.8], \n",
        "                  [23.45, 50, 78.7],\n",
        "                  [41, np.nan, np.nan]])\n",
        "  \n",
        "print(\"Given array:\")\n",
        "print(n_arr)\n",
        "  \n",
        "print(\"\\nRemove all rows containing non-numeric elements\")\n",
        "print(n_arr[~np.isnan(n_arr).any(axis=1)])"
      ],
      "metadata": {
        "colab": {
          "base_uri": "https://localhost:8080/",
          "height": 0
        },
        "id": "VghzUZi0GuQe",
        "outputId": "c2e9ac49-d301-442e-ec43-83e3a2ce37c7"
      },
      "execution_count": 60,
      "outputs": [
        {
          "output_type": "stream",
          "name": "stdout",
          "text": [
            "Given array:\n",
            "[[10.5  22.5   3.8 ]\n",
            " [23.45 50.   78.7 ]\n",
            " [41.     nan   nan]]\n",
            "\n",
            "Remove all rows containing non-numeric elements\n",
            "[[10.5  22.5   3.8 ]\n",
            " [23.45 50.   78.7 ]]\n"
          ]
        }
      ]
    },
    {
      "cell_type": "markdown",
      "source": [
        "10. Remove single-dimensional entries from the shape of an array."
      ],
      "metadata": {
        "id": "f2pZb7Q0G7uN"
      }
    },
    {
      "cell_type": "code",
      "source": [
        "arr = np.array([[[2, 2, 2], [2, 2, 2]]])\n",
        "   \n",
        "print (\"Input array : \",arr) \n",
        "print(\"Shape of input array : \", arr.shape)  \n",
        "  \n",
        "arr1 = np.squeeze(arr) \n",
        "  \n",
        "print (\"output squeezed array : \", arr1)\n",
        "print(\"Shape of output array : \", arr1.shape) "
      ],
      "metadata": {
        "colab": {
          "base_uri": "https://localhost:8080/",
          "height": 0
        },
        "id": "1Pit7PsHG_qI",
        "outputId": "0bb47452-5c79-4ee1-a7d9-265cc40534f2"
      },
      "execution_count": 63,
      "outputs": [
        {
          "output_type": "stream",
          "name": "stdout",
          "text": [
            "Input array :  [[[2 2 2]\n",
            "  [2 2 2]]]\n",
            "Shape of input array :  (1, 2, 3)\n",
            "output squeezed array :  [[2 2 2]\n",
            " [2 2 2]]\n",
            "Shape of output array :  (2, 3)\n"
          ]
        }
      ]
    },
    {
      "cell_type": "markdown",
      "source": [
        "11. Find the number of occurrences of a sequence in a NumPy array."
      ],
      "metadata": {
        "id": "jwZX3dLZHzf9"
      }
    },
    {
      "cell_type": "code",
      "source": [
        "arr = np.array([[2, 8, 9, 4], \n",
        "                   [9, 4, 9, 4],\n",
        "                   [4, 5, 9, 7],\n",
        "                   [2, 9, 4, 3]])\n",
        "print(arr)\n",
        "  \n",
        "output = repr(arr).count(\"9, 4\")\n",
        "  \n",
        "print(output)"
      ],
      "metadata": {
        "colab": {
          "base_uri": "https://localhost:8080/",
          "height": 0
        },
        "id": "PXE4gDGHIGlX",
        "outputId": "842a83f7-8e98-4341-9c29-3ce82ff32deb"
      },
      "execution_count": 65,
      "outputs": [
        {
          "output_type": "stream",
          "name": "stdout",
          "text": [
            "[[2 8 9 4]\n",
            " [9 4 9 4]\n",
            " [4 5 9 7]\n",
            " [2 9 4 3]]\n",
            "4\n"
          ]
        }
      ]
    },
    {
      "cell_type": "markdown",
      "source": [
        "12. Find the most frequent value in a NumPy array."
      ],
      "metadata": {
        "id": "sCUomDmlIWkx"
      }
    },
    {
      "cell_type": "code",
      "source": [
        "x = np.array([1,4,3,4,5,4,2,1,4,1])\n",
        "print(\"Original array:\")\n",
        "print(x)\n",
        "  \n",
        "print(\"Most frequent value in the above array:\")\n",
        "print(np.bincount(x).argmax())"
      ],
      "metadata": {
        "colab": {
          "base_uri": "https://localhost:8080/",
          "height": 0
        },
        "id": "ZErEgeNhIn7b",
        "outputId": "a945c935-4c44-4076-cd37-495c3054ea37"
      },
      "execution_count": 66,
      "outputs": [
        {
          "output_type": "stream",
          "name": "stdout",
          "text": [
            "Original array:\n",
            "[1 4 3 4 5 4 2 1 4 1]\n",
            "Most frequent value in the above array:\n",
            "4\n"
          ]
        }
      ]
    },
    {
      "cell_type": "markdown",
      "source": [
        "13. Combining a one and a two-dimensional NumPy Array."
      ],
      "metadata": {
        "id": "qlzc6rLJIxWR"
      }
    },
    {
      "cell_type": "code",
      "source": [
        "num_1d = np.arange(5)\n",
        "print(\"One dimensional array:\")\n",
        "print(num_1d)\n",
        "  \n",
        "num_2d = np.arange(10).reshape(2,5)\n",
        "print(\"\\nTwo dimensional array:\")\n",
        "print(num_2d)\n",
        "  \n",
        "for a, b in np.nditer([num_1d, num_2d]):\n",
        "    print(\"%d:%d\" % (a, b),)"
      ],
      "metadata": {
        "colab": {
          "base_uri": "https://localhost:8080/",
          "height": 0
        },
        "id": "iEZrzMxTI0Xj",
        "outputId": "6499fb4d-4d25-47c0-f737-61bf005f3345"
      },
      "execution_count": 67,
      "outputs": [
        {
          "output_type": "stream",
          "name": "stdout",
          "text": [
            "One dimensional array:\n",
            "[0 1 2 3 4]\n",
            "\n",
            "Two dimensional array:\n",
            "[[0 1 2 3 4]\n",
            " [5 6 7 8 9]]\n",
            "0:0\n",
            "1:1\n",
            "2:2\n",
            "3:3\n",
            "4:4\n",
            "0:5\n",
            "1:6\n",
            "2:7\n",
            "3:8\n",
            "4:9\n"
          ]
        }
      ]
    },
    {
      "cell_type": "markdown",
      "source": [
        ""
      ],
      "metadata": {
        "id": "DT-GXrkp4Dg6"
      }
    }
  ]
}